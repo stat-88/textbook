{
 "cells": [
  {
   "cell_type": "code",
   "execution_count": 1,
   "metadata": {
    "tags": [
     "remove_input"
    ]
   },
   "outputs": [],
   "source": [
    "# NO CODE\n",
    "\n",
    "from datascience import *\n",
    "from prob140 import *\n",
    "%matplotlib inline\n",
    "import matplotlib.pyplot as plt\n",
    "plt.style.use('fivethirtyeight')\n",
    "import numpy as np\n",
    "from scipy import stats\n",
    "\n",
    "import warnings\n",
    "warnings.filterwarnings('ignore')"
   ]
  },
  {
   "cell_type": "markdown",
   "metadata": {},
   "source": [
    "## Exercises ##"
   ]
  },
  {
   "cell_type": "markdown",
   "metadata": {},
   "source": [
    "**1.**\n",
    "At a restaurant, the amounts on the checks are i.i.d. with mean 40 dollars and SD 30 dollars. Let $T$ be the total amount on 200 checks and let $M$ be the mean amount on those 200 checks.\n",
    "\n",
    "**a)** Find $E(T)$ and $SD(T)$.\n",
    "\n",
    "**b)** If possible, sketch the approximate distribution of $T$ and mark $E(T)$ and $SD(T)$ appropriately on your sketch. If this is not possible, explain why not.\n",
    "\n",
    "**c)** Find $E(M)$ and $SD(M)$.\n",
    "\n",
    "**d)** If possible, sketch the approximate distribution of $M$ and mark $E(M)$ and $SD(M)$ appropriately on your sketch. If this is not possible, explain why not."
   ]
  },
  {
   "cell_type": "markdown",
   "metadata": {},
   "source": [
    "**2.** Suppose the numbers of M&Ms in the small 1.69-ounce bags of the candy are i.i.d. with mean 55 and SD 2. Let $X$ be the total number of M&Ms in 100 such bags. Find or approximate $P(X > 5525)$."
   ]
  },
  {
   "cell_type": "markdown",
   "metadata": {},
   "source": [
    "**3.**\n",
    "A population consists of 1 million people. Incomes in the population have an average of 70,000 dollars and an SD of 30,000 dollars. A simple random sample of 400 people is taken from the population.\n",
    "\n",
    "Sketch your best guesses of the shapes of the following histograms and provide your reasoning.\n",
    "\n",
    "**a)** the histogram of the 1 million incomes in the population\n",
    "\n",
    "**b)** the histogram of the 400 incomes in the sample\n",
    "\n",
    "**c)** the probability histogram of the income of a person drawn at random from the population\n",
    "\n",
    "**d)** the probability histogram of the average of a simple random sample of 400 people drawn from the population"
   ]
  },
  {
   "cell_type": "markdown",
   "metadata": {},
   "source": [
    "**4.**\n",
    "**[Continuing the previous exercise.]** \n",
    "\n",
    "**a)** Fill in the blank with a number: At least 75% of the population has incomes in the range 70,000 dollars plus or minus $\\underline{~~~~~~~~~~~~~~~~~~}$ dollars.\n",
    "\n",
    "**b)** Fill in the blank with a number: With chance about 75%, the average income of the sampled people is in the range 70,000 dollars plus or minus $\\underline{~~~~~~~~~~~~~~~~~~}$ dollars."
   ]
  },
  {
   "cell_type": "markdown",
   "metadata": {},
   "source": [
    "**5.** \n",
    "Suppose the weights of sticks of butter are i.i.d. with a mean of 115 grams and an SD of 5 grams. Let $X$ be the total weight of 600 such sticks. Find $x$ such that $P(X > x)$ is approximately 95%."
   ]
  },
  {
   "cell_type": "markdown",
   "metadata": {},
   "source": [
    "**6.**\n",
    "A coin is tossed 100 times. Let $X$ be the number of heads.\n",
    "\n",
    "**a)** What is the distribution of $X$?\n",
    "\n",
    "**b)** Sketch the normal curve that approximates the distribution of $X$. Mark the numerical values of $E(X)$ and $SD(X)$ appropriately on the sketch.\n",
    "\n",
    "**c)** Use the approximation in Part **b** to get a rough numerical value for $P(45 \\le X \\le 55)$.\n",
    "\n",
    "**d)** Find the exact numerical value of $P(45 \\le X \\le 55)$ and compare with the answer to **c**. The approximation is pretty rough.\n",
    "\n",
    "**e)** The figure below shows the probability histogram of $X$ and the approximating normal curve. Fill in the blanks: \n",
    "\n",
    "$P(45 \\le X \\le 55)$ is the area of the bars centered over the integers $\\underline{~~~~~~~~~~~~~~}$ through $\\underline{~~~~~~~~~~~~~~}$. This is approximately the area under the red curve between the points $\\underline{~~~~~~~~~~~~~~}$ and $\\underline{~~~~~~~~~~~~~~}$ on the horizontal axis."
   ]
  },
  {
   "cell_type": "code",
   "execution_count": 2,
   "metadata": {
    "tags": [
     "remove_input"
    ]
   },
   "outputs": [
    {
     "data": {
      "image/png": "[encoded data removed]",
      "text/plain": [
       "<Figure size 576x288 with 1 Axes>"
      ]
     },
     "metadata": {
      "filenames": {
       "image/png": "C:\\Users\\septi\\Desktop\\Berkeley\\Fall 2022\\Data 88S\\textbook\\_build\\jupyter_execute\\content\\Chapter_08\\05_Exercises_8_0.png"
      }
     },
     "output_type": "display_data"
    }
   ],
   "source": [
    "# NO CODE\n",
    "\n",
    "plt.figure(figsize=(8, 4))\n",
    "k = np.arange(35, 66)\n",
    "probs = stats.binom.pmf(k, 100, 0.5)\n",
    "dist = Table().values(k).probabilities(probs)\n",
    "Plot(dist, event=np.arange(45, 56))\n",
    "x = np.arange(34.5, 65.6, 0.1)\n",
    "y = stats.norm.pdf(x, 50, 5)\n",
    "plt.plot(x, y, color='red', lw=2);"
   ]
  },
  {
   "cell_type": "markdown",
   "metadata": {},
   "source": [
    "**f)** Use Part **e** to get a better normal approximation for $P(45 \\le X \\le 55)$. This is called the normal approximation *with continuity correction*. You are correcting for using a continuous curve to approximate a discrete histogram."
   ]
  }
 ],
 "metadata": {
  "celltoolbar": "Edit Metadata",
  "kernelspec": {
   "display_name": "Python 3",
   "language": "python",
   "name": "python3"
  },
  "language_info": {
   "codemirror_mode": {
    "name": "ipython",
    "version": 3
   },
   "file_extension": ".py",
   "mimetype": "text/x-python",
   "name": "python",
   "nbconvert_exporter": "python",
   "pygments_lexer": "ipython3",
   "version": "3.7.11"
  }
 },
 "nbformat": 4,
 "nbformat_minor": 4
}