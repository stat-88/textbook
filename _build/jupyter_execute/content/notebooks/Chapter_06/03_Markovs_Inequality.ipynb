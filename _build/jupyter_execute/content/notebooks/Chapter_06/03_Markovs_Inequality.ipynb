{
 "cells": [
  {
   "cell_type": "code",
   "execution_count": 1,
   "metadata": {
    "tags": [
     "remove_input"
    ]
   },
   "outputs": [],
   "source": [
    "# NO CODE\n",
    "\n",
    "from prob140 import *\n",
    "from datascience import *\n",
    "import numpy as np\n",
    "from scipy import stats\n",
    "\n",
    "import matplotlib.pyplot as plt\n",
    "%matplotlib inline\n",
    "import matplotlib\n",
    "matplotlib.style.use('fivethirtyeight')"
   ]
  },
  {
   "cell_type": "code",
   "execution_count": 2,
   "metadata": {
    "tags": [
     "remove_input"
    ]
   },
   "outputs": [],
   "source": [
    "# NO CODE\n",
    "\n",
    "p = 1/6\n",
    "q = 1- p\n",
    "n = 25\n",
    "f = 1/3.5\n",
    "k = np.arange(1, n+1)\n",
    "probs = (q ** (k-1)) * p\n",
    "r = probs[0]*f\n",
    "p0 = q**n +r \n",
    "probs[0] = probs[0]*(1-f)\n",
    "dist = Table().values(np.append(0, k)).probabilities(np.append(p0, probs))"
   ]
  },
  {
   "cell_type": "markdown",
   "metadata": {},
   "source": [
    "## Markov's Inequality##"
   ]
  },
  {
   "cell_type": "markdown",
   "metadata": {},
   "source": [
    "To understand the accuracy of estimates, it helps to start by examining\n",
    "the chance that a random variable is far from its mean.\n",
    "\n",
    "In this section we will see what we can say about how far a non-negative random variable can be from its mean, using only the mean and not the SD."
   ]
  },
  {
   "cell_type": "markdown",
   "metadata": {},
   "source": [
    "### Tail Probabilities ###\n",
    "\n",
    "Let $X$ be a non-negative random variables. That means all the possible values of $X$ are non-negative. Almost all the random variables you have encountered in this course so far have been non-negative.\n",
    "\n",
    "Fix $c > 0$ and consider the *right hand tail probability* $P(X \\ge c)$. The figure below shows such a probability. You can see from the graph why the term \"tail\" is used. The red arrow on the horizontal axis is at $E(X)$."
   ]
  },
  {
   "cell_type": "code",
   "execution_count": 3,
   "metadata": {
    "tags": [
     "remove_input"
    ]
   },
   "outputs": [
    {
     "data": {
      "image/png": "[encoded data removed]",
      "text/plain": [
       "<Figure size 432x288 with 1 Axes>"
      ]
     },
     "metadata": {
      "filenames": {
       "image/png": "/mnt/c/Users/septi/Desktop/Berkeley/Summer 2022/Jupyter Book/Stat 88/textbook/_build/jupyter_execute/content/notebooks/Chapter_06/03_Markovs_Inequality_5_0.png"
      }
     },
     "output_type": "display_data"
    }
   ],
   "source": [
    "# NO CODE\n",
    "\n",
    "Plot(dist, show_ev=True, event=np.arange(17, n+1))\n",
    "plt.xlabel('$x$')\n",
    "plt.title('Gold Area = $P(X \\geq c)$');"
   ]
  },
  {
   "cell_type": "markdown",
   "metadata": {},
   "source": [
    "How big can the tail probability be? Clearly the answer depends on the shape of the distribution and also on how far $c$ is from the center of the distribution.\n",
    "\n",
    "The center is measured by $E(X)$, so we will start with the definition of $E(X)$ and see if we can learn anything about the tail probability $P(X \\ge c)$.\n",
    "\n",
    "$$\n",
    "\\begin{align*}\n",
    "E(X) ~ &= ~ \\sum_{\\text{all }x} xP(X = x) \\\\\n",
    "&= ~ \\sum_{\\text{all }x < c} xP(X = x) + \\sum_{\\text{all }x \\ge c} xP(X = x) \\\\\n",
    "\\end{align*}\n",
    "$$\n",
    "\n",
    "Both of the sums on the right hand side are non-negative, since all the possible values of $X$ are non-negative. So if we just drop the first sum we get the inequality\n",
    "\n",
    "$$\n",
    "E(X) ~ \\ge ~ \\sum_{\\text{all }x \\ge c} xP(X = x)\n",
    "$$\n",
    "\n",
    "Each $x$ in the sum on the right hand side is at least $c$, so if we replace it by $c$ we have the further inequality\n",
    "\n",
    "$$\n",
    "\\begin{align*}\n",
    "E(X) ~ &\\ge ~ \\sum_{\\text{all }x \\ge c} cP(X = x) \\\\\n",
    "&= ~ c\\sum_{\\text{all }x \\ge c} P(X = x) \\\\\n",
    "&= ~ cP(X \\ge c)\n",
    "\\end{align*}\n",
    "$$"
   ]
  },
  {
   "cell_type": "markdown",
   "metadata": {},
   "source": [
    "### Markov's Bound ###\n",
    "\n",
    "We have just proved **Markov's Inequality**:\n",
    "\n",
    "Let $X$ be a non-negative random variable and let $c$ be a positive constant. Then\n",
    "\n",
    "$$\n",
    "P(X \\ge c) ~ \\le ~ \\frac{E(X)}{c}\n",
    "$$\n",
    "\n",
    "Markov's inequality is a *tail bound*. It gives an upper bound on a tail probability.\n",
    "\n",
    "Note that the inequality implies that\n",
    "\n",
    "$$\n",
    "P(X > c) ~ \\le ~ P(X \\ge c) ~ \\le ~ \\frac{E(X)}{c}\n",
    "$$\n",
    "\n",
    "Markov's inequality is useful because it makes no assumptions about the shape of the distribution of $X$, other than specifying that the values of $X$ must be non-negative.\n",
    "\n",
    "Thus for any non-negative random variable $X$, the chance that $X$ is at least 10 times its mean can be bounded by Markov's inequality:\n",
    "\n",
    "$$\n",
    "P(X ~ \\ge 10E(X)) ~ \\le ~ \\frac{E(X)}{10E(X)} ~ = ~ \\frac{1}{10}\n",
    "$$\n",
    "\n",
    "This example points us to an equivalent way of stating Markov's inequality.\n",
    "\n",
    "Let $X$ be a non-negative random variable and let $k$ be any positive constant (not necessarily an integer). Then\n",
    "\n",
    "$$\n",
    "P(X \\ge kE(X)) ~ \\le ~ \\frac{1}{k}\n",
    "$$\n",
    "\n",
    "Markov's inequality says that the chance that a non-negative random variable is at least three times its mean can be no more than $1/3$. The chance that the random variable is at least four times its mean can be no more than $1/4$. And so on. A non-negative random variable is not likely to exceed its mean by a big factor.\n",
    "\n",
    "What does Markov's bound say about the chance that the random variable is at least half its mean?\n",
    "\n",
    "$$\n",
    "P(X \\ge 0.5E(X)) ~ \\le ~ \\frac{1}{0.5} ~ = ~ 2\n",
    "$$\n",
    "\n",
    "This is correct as a bound, but we already know that a probability can be at most 1. So we don't gain any new information by applying Markov's bound in this case.\n",
    "\n",
    "We only learn something from Markov's upper bound if we apply it to a tail that starts beyond the expected value."
   ]
  },
  {
   "cell_type": "markdown",
   "metadata": {},
   "source": [
    "### Bounds Are Not Approximations ###\n",
    "\n",
    "It is important to keep in mind that an upper bound is just a ceiling, not an approximation.\n",
    "\n",
    "For example, if $X$ has the binomial $(100, 0.5)$ distribution then it is non-negative and so Markov's inequality can be applied to see that the tail probability $P(X \\ge 4E(X))$ is at most $1/4$. But in fact we know that the chance is 0 because $4E(X) = 4 \\times 50 = 200$ but $X$ can't be more than 100.\n",
    "\n",
    "So, while it's true that $P(X \\ge 200) \\le 1/4$, the exact value of the chance is 0 and the bound is neither close nor helpful.\n",
    "\n",
    "In general, if you know the distribution of $X$ then you might be able to considerably better by using the distribution than Markov's bound."
   ]
  },
  {
   "cell_type": "code",
   "execution_count": null,
   "metadata": {},
   "outputs": [],
   "source": []
  }
 ],
 "metadata": {
  "celltoolbar": "Edit Metadata",
  "kernelspec": {
   "display_name": "Python 3",
   "language": "python",
   "name": "python3"
  },
  "language_info": {
   "codemirror_mode": {
    "name": "ipython",
    "version": 3
   },
   "file_extension": ".py",
   "mimetype": "text/x-python",
   "name": "python",
   "nbconvert_exporter": "python",
   "pygments_lexer": "ipython3",
   "version": "3.8.10"
  }
 },
 "nbformat": 4,
 "nbformat_minor": 2
}