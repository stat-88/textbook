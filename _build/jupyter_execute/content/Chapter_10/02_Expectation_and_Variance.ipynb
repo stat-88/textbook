{
 "cells": [
  {
   "cell_type": "code",
   "execution_count": 1,
   "metadata": {
    "tags": [
     "remove_input"
    ]
   },
   "outputs": [],
   "source": [
    "# NO CODE\n",
    "\n",
    "from datascience import *\n",
    "from prob140 import *\n",
    "%matplotlib inline\n",
    "import matplotlib.pyplot as plt\n",
    "plt.style.use('fivethirtyeight')\n",
    "import numpy as np"
   ]
  },
  {
   "cell_type": "markdown",
   "metadata": {},
   "source": [
    "## Expectation and Variance ##"
   ]
  },
  {
   "cell_type": "markdown",
   "metadata": {},
   "source": [
    "If a random variable $X$ has density $f$, the expectation $E(X)$ is defined by\n",
    "\n",
    "$$\n",
    "E(X) ~ = ~ \\int_{-\\infty}^\\infty xf(x)dx\n",
    "$$\n",
    "\n",
    "This is parallel to the definition of the expectation of a discrete random variable $X$:\n",
    "\n",
    "$$\n",
    "E(X) ~ = ~ \\sum_{\\text{all }x} xP(X=x)\n",
    "$$\n",
    "\n",
    "**Technical Note:** Not all integrals are finite, and some don't even exist. But in this class you don't have to worry about that. All random variables we encounter will have finite expectations and variances.\n",
    "\n",
    "If $X$ has density $f$ then the expected square $E(X^2)$ is defined by\n",
    "\n",
    "$$\n",
    "E(X^2) ~ = ~ \\int_{-\\infty}^\\infty x^2f(x)dx\n",
    "$$\n",
    "\n",
    "This is parallel to the definition of the expected square of a discrete random variable $X$:\n",
    "\n",
    "$$\n",
    "E(X^2) ~ = ~ \\sum_{\\text{all }x} x^2P(X=x)\n",
    "$$\n",
    "\n",
    "Whether $X$ has a density or is discrete, the variance of $X$ is defined as \n",
    "\n",
    "$$\n",
    "Var(X) ~ = ~ E(X^2) - \\big{(}E(X)\\big{)}^2\n",
    "$$\n",
    "\n",
    "and the standard deviation of $X$ is defined as\n",
    "\n",
    "$$\n",
    "SD(X) ~ = ~ \\sqrt{Var(X)}\n",
    "$$\n",
    "\n",
    "Properties of expectation and variance are the same as before. For example,\n",
    "\n",
    "- Linear functions: $E(aX+b) = aE(X) + b$, $SD(aX+b) = \\vert a \\vert SD(X)$\n",
    "- Additivity of expectation: $E(X+Y) = E(X) + E(Y)$\n",
    "- Independence: $X$ and $Y$ are independent if $P(X \\in A, Y \\in B) = P(X \\in A)P(Y \\in B)$ for all numerical sets $A$ and $B$.\n",
    "- Addition rule for variance: If $X$ and $Y$ are independent, then $Var(X+Y) = Var(X)+Var(Y)$\n",
    "\n",
    "The Central Limit Theorem holds too: If $X_1, X_2, \\ldots $ are i.i.d. then for large $n$ the distribution of $S_n = \\sum_{i=1}^n X_i$ is approximately normal.\n",
    "\n",
    "So if you are working with a random variables that has a density, you have to know how to find probabilities, expectation, and variance using the density function. After that, probabilities and expectations combine just as they did in the discrete case."
   ]
  },
  {
   "cell_type": "markdown",
   "metadata": {},
   "source": [
    "### Calculating Expectation and SD ###\n",
    "Let $X$ have density given by\n",
    "\n",
    "$$\n",
    "f(x) ~ = ~ \n",
    "\\begin{cases}\n",
    "6x(1-x) ~~~ 0 < x < 1 \\\\\n",
    "0 ~~~~~~~~~~~~~~~~~ \\text{otherwise}\n",
    "\\end{cases}\n",
    "$$\n",
    "\n",
    "As we saw in the previous section, the density of $X$ is symmetric about $0.5$ and so $E(X)$ must be $0.5$. This is consistent with the answer we get by applying the definition of expectation above:\n",
    "\n",
    "$$\n",
    "\\begin{align*}\n",
    "E(X) ~ &= ~ \\int_0^1 x6x(1-x)dx \\\\\n",
    "&= ~ 6 \\int_0^1 (x^2-x^3)dx \\\\\n",
    "&=~ \\frac{6}{3} - \\frac{6}{4} ~ = ~ \\frac{6}{12} ~ = ~ 0.5\n",
    "\\end{align*}\n",
    "$$\n",
    "\n",
    "To find $Var(X)$ we start by finding $E(X^2)$. We'll speed up the calculus as it is similar to the above.\n",
    "\n",
    "$$\n",
    "E(X^2) ~ = ~ \\int_0^1 x^26x(1-x)dx ~ = ~ \\frac{6}{4} - \\frac{6}{5} ~ = ~ 0.3\n",
    "$$\n",
    "\n",
    "So\n",
    "\n",
    "$$\n",
    "Var(X) ~ = ~ 0.3 - 0.5^2 = 0.05\n",
    "$$\n",
    "\n",
    "and \n",
    "\n",
    "$$\n",
    "SD(X) ~ = ~ \\sqrt{0.05} ~ \\approx 0.22\n",
    "$$"
   ]
  },
  {
   "cell_type": "code",
   "execution_count": 2,
   "metadata": {},
   "outputs": [
    {
     "data": {
      "text/plain": [
       "0.22360679774997896"
      ]
     },
     "execution_count": 2,
     "metadata": {},
     "output_type": "execute_result"
    }
   ],
   "source": [
    "0.05 ** 0.5"
   ]
  },
  {
   "cell_type": "markdown",
   "metadata": {},
   "source": [
    "### Uniform $(0, 1)$ Distribution ###\n",
    "A random variable $U$ has the *uniform* distribution on the unit interval $(0, 1)$ if its density $f$ is constant over the interval:\n",
    "\n",
    "$$\n",
    "f(u) ~ = ~ \n",
    "\\begin{cases}\n",
    "1 ~~~~~~ 0 < u < 1 \\\\\n",
    "0 ~~~~~~ \\text{otherwise}\n",
    "\\end{cases}\n",
    "$$"
   ]
  },
  {
   "cell_type": "code",
   "execution_count": 3,
   "metadata": {
    "tags": [
     "remove_input"
    ]
   },
   "outputs": [
    {
     "data": {
      "image/png": "[encoded data removed]",
      "text/plain": [
       "<Figure size 288x216 with 1 Axes>"
      ]
     },
     "metadata": {
      "filenames": {
       "image/png": "C:\\Users\\septi\\Desktop\\Berkeley\\Fall 2022\\Data 88S\\textbook\\_build\\jupyter_execute\\content\\Chapter_10\\02_Expectation_and_Variance_6_0.png"
      }
     },
     "output_type": "display_data"
    }
   ],
   "source": [
    "# NO CODE\n",
    "\n",
    "plt.figure(figsize=(4,3))\n",
    "plt.axes().set_aspect('equal','datalim')\n",
    "plt.plot([0, 1], [1, 1], color='darkblue', lw=2)\n",
    "plt.plot([-0.5, 0], [0, 0], color='darkblue', lw=2)\n",
    "plt.plot([1, 1.5], [0, 0], color='darkblue', lw=2)\n",
    "plt.plot([0, 1], [0, 0], color='grey', lw=1)\n",
    "plt.yticks([0, 1/2, 1])\n",
    "plt.xlabel('$u$', fontsize=12)\n",
    "plt.ylabel('')\n",
    "plt.title('Density of $U$', fontsize=15);"
   ]
  },
  {
   "cell_type": "markdown",
   "metadata": {},
   "source": [
    "The probability of an interval is the length of the interval. For $0 < u_1 < u_2 < 1$,\n",
    "\n",
    "$$\n",
    "P(u_1 < U < u_2) ~ = ~ u_2 - u_1\n",
    "$$\n",
    "\n",
    "This is the area of the gold rectangle in the figure below."
   ]
  },
  {
   "cell_type": "code",
   "execution_count": 4,
   "metadata": {
    "tags": [
     "remove_input"
    ]
   },
   "outputs": [
    {
     "data": {
      "image/png": "[encoded data removed]",
      "text/plain": [
       "<Figure size 288x216 with 1 Axes>"
      ]
     },
     "metadata": {
      "filenames": {
       "image/png": "C:\\Users\\septi\\Desktop\\Berkeley\\Fall 2022\\Data 88S\\textbook\\_build\\jupyter_execute\\content\\Chapter_10\\02_Expectation_and_Variance_8_0.png"
      }
     },
     "output_type": "display_data"
    }
   ],
   "source": [
    "# NO CODE\n",
    "\n",
    "plt.figure(figsize=(4,3))\n",
    "plt.axes().set_aspect('equal','datalim')\n",
    "plt.plot([0, 1], [1, 1], color='darkblue', lw=2)\n",
    "plt.plot([-0.5, 0], [0, 0], color='darkblue', lw=2)\n",
    "plt.plot([1, 1.5], [0, 0], color='darkblue', lw=2)\n",
    "plt.plot([0, 1], [0, 0], color='grey', lw=1)\n",
    "u1 = 1/4\n",
    "u2 = 5/8\n",
    "x = np.arange(u1, u2+0.01, .01)\n",
    "y = np.ones(len(x))\n",
    "plt.fill_between(x, y, color='gold')\n",
    "plt.text(u1-0.01, -0.1, '$u_1$', fontsize=12)\n",
    "plt.text(u2-0.01, -0.1, '$u_2$', fontsize=12)\n",
    "plt.yticks([0, 1/2, 1])\n",
    "plt.ylabel('')\n",
    "plt.title('Gold Area = $P(u_1 < U < u_2)$', fontsize=15);"
   ]
  },
  {
   "cell_type": "markdown",
   "metadata": {},
   "source": [
    "The cdf of $U$ is given by:\n",
    "\n",
    "- $F(x) = 0$ for $x \\le 0$\n",
    "- $F(x) = P(0 < U \\le x) = x$ for $0 < x < 1$\n",
    "- $F(x) = 1$ for $x \\ge 1$"
   ]
  },
  {
   "cell_type": "code",
   "execution_count": 5,
   "metadata": {
    "tags": [
     "remove_input"
    ]
   },
   "outputs": [
    {
     "data": {
      "image/png": "[encoded data removed]",
      "text/plain": [
       "<Figure size 288x216 with 1 Axes>"
      ]
     },
     "metadata": {
      "filenames": {
       "image/png": "C:\\Users\\septi\\Desktop\\Berkeley\\Fall 2022\\Data 88S\\textbook\\_build\\jupyter_execute\\content\\Chapter_10\\02_Expectation_and_Variance_10_0.png"
      }
     },
     "output_type": "display_data"
    }
   ],
   "source": [
    "# NO CODE\n",
    "\n",
    "plt.figure(figsize=(4,3))\n",
    "plt.axes().set_aspect('equal','datalim')\n",
    "plt.plot([0, 1], [0, 1], color='darkblue', lw=2)\n",
    "plt.plot([-0.5, 0], [0, 0], color='darkblue', lw=2)\n",
    "plt.plot([1, 1.5], [1, 1], color='darkblue', lw=2)\n",
    "plt.plot([0, 1.5], [0, 0], color='grey', lw=1)\n",
    "plt.xlabel('$x$', fontsize=12)\n",
    "plt.ylabel('')\n",
    "plt.title('CDF of $U$', fontsize=15);"
   ]
  },
  {
   "cell_type": "markdown",
   "metadata": {},
   "source": [
    "Clearly $E(U) = 0.5$ by symmetry, and \n",
    "\n",
    "$$\n",
    "E(U^2) ~ = ~ \\int_0^1 u^2\\cdot 1du ~ = ~ \\frac{1}{3}\n",
    "$$\n",
    "\n",
    "So\n",
    "\n",
    "$$\n",
    "Var(U) ~ = ~ \\frac{1}{3} - \\frac{1}{4} ~ = ~ \\frac{1}{12}\n",
    "$$\n",
    "\n",
    "and\n",
    "\n",
    "$$\n",
    "SD(U) ~ = ~ \\frac{1}{\\sqrt{12}}\n",
    "$$"
   ]
  },
  {
   "cell_type": "markdown",
   "metadata": {},
   "source": [
    "### Uniform $(a, b)$ Distribution ###\n",
    "\n",
    "For any $a < b$, the random variable $X$ has the uniform distribution on the interval $(a, b)$ if its density is constant over the interval. The total area under the density has to be 1, so the density function is given by\n",
    "\n",
    "$$\n",
    "f_X(x) ~ = ~ \n",
    "\\begin{cases}\n",
    "\\frac{1}{b-a} ~~~~~~ a < x < b \\\\\n",
    "0 ~~~~~~ \\text{otherwise}\n",
    "\\end{cases}\n",
    "$$\n",
    "\n",
    "The probability of an interval is its *relative* length: for $a < x_1 < x_2 < b$,\n",
    "\n",
    "$$\n",
    "P(x_1 < X < x_2) ~ = ~ \\frac{x_2 - x_1}{b-a}\n",
    "$$\n",
    "\n",
    "By symmetry, $E(X)$ is halfway between $a$ and $b$:\n",
    "\n",
    "$$\n",
    "E(X) ~ = ~ \\frac{a+b}{2}\n",
    "$$\n",
    "\n",
    "No integration is needed for the variance either, because you can write $X$ as a linear function of $U$ where $U$ is uniform on $(0, 1)$. Both have flat densities, so you can get from one to the other by stretching and shifting the values appropriately:\n",
    "\n",
    "- The random variable $(b-a)U$ has the uniform distribution on $(0, b-a)$.\n",
    "- The random variable $(b-a)U + a$ has the uniform distribution on $(a, b)$.\n",
    "\n",
    "Conversely $X - a$ has the uniform distribution on $(0, b-a)$, and $\\frac{X-a}{b-a}$ has the uniform distribution on $(0, 1)$.\n",
    "\n",
    "Thus if $X$ is uniform on $(a, b)$ then\n",
    "\n",
    "$$\n",
    "X ~ = ~ (b-a)U + a\n",
    "$$\n",
    "\n",
    "where $U$ is uniform on $(0, 1)$. So\n",
    "\n",
    "$$\n",
    "Var(X) ~ = ~ (b-a)^2Var(U) ~ = ~ (b-a)^2\\frac{1}{12}\n",
    "$$\n",
    "\n",
    "and\n",
    "\n",
    "$$\n",
    "SD(X) ~ = ~ \\frac{b-a}{\\sqrt{12}}\n",
    "$$"
   ]
  }
 ],
 "metadata": {
  "celltoolbar": "Edit Metadata",
  "kernelspec": {
   "display_name": "Python 3",
   "language": "python",
   "name": "python3"
  },
  "language_info": {
   "codemirror_mode": {
    "name": "ipython",
    "version": 3
   },
   "file_extension": ".py",
   "mimetype": "text/x-python",
   "name": "python",
   "nbconvert_exporter": "python",
   "pygments_lexer": "ipython3",
   "version": "3.7.11"
  }
 },
 "nbformat": 4,
 "nbformat_minor": 4
}