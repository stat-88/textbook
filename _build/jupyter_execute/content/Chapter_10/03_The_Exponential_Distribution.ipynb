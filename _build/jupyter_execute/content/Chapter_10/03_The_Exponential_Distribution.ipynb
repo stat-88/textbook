{
 "cells": [
  {
   "cell_type": "code",
   "execution_count": 1,
   "metadata": {
    "tags": [
     "remove_input"
    ]
   },
   "outputs": [],
   "source": [
    "# NO CODE\n",
    "\n",
    "from datascience import *\n",
    "from prob140 import *\n",
    "import numpy as np\n",
    "import matplotlib.pyplot as plt\n",
    "plt.style.use('fivethirtyeight')\n",
    "%matplotlib inline\n",
    "import math\n",
    "from scipy import stats"
   ]
  },
  {
   "cell_type": "markdown",
   "metadata": {},
   "source": [
    "## Exponential Distribution ##"
   ]
  },
  {
   "cell_type": "markdown",
   "metadata": {},
   "source": [
    "Let $\\lambda$ be a positive constant. A random variable $T$ has the *exponential distribution with rate $\\lambda$* if the density of $T$ is given by\n",
    "\n",
    "$$\n",
    "f(t) ~ = \\lambda e^{-\\lambda t}, ~~~ t \\ge 0\n",
    "$$\n",
    "\n",
    "The graph below shows the density $f$ for $\\lambda = 5$."
   ]
  },
  {
   "cell_type": "code",
   "execution_count": 2,
   "metadata": {
    "tags": [
     "remove_input"
    ]
   },
   "outputs": [
    {
     "data": {
      "image/png": "[encoded data removed]",
      "text/plain": [
       "<Figure size 432x288 with 1 Axes>"
      ]
     },
     "metadata": {
      "filenames": {
       "image/png": "C:\\Users\\septi\\Desktop\\Berkeley\\Fall 2022\\Data 88S\\textbook\\_build\\jupyter_execute\\content\\Chapter_10\\03_The_Exponential_Distribution_3_0.png"
      },
      "needs_background": "light"
     },
     "output_type": "display_data"
    }
   ],
   "source": [
    "# NO CODE\n",
    "\n",
    "lam = 5\n",
    "t = np.arange(0, 1, 0.01)\n",
    "y = stats.expon.pdf(t, scale=1/5)\n",
    "\n",
    "plt.plot(t, y, color='darkblue', lw=2)\n",
    "plt.xlabel('$t$')\n",
    "plt.ylabel('$f(t)$', rotation=False)\n",
    "plt.title('Density of $T$');"
   ]
  },
  {
   "cell_type": "markdown",
   "metadata": {},
   "source": [
    "### CDF and Survival Function ###\n",
    "The exponential distribution is often used as a model for random lifetimes that have an interesting property that we will describe below. For now, just think of $T$ as the lifetime of an object like a lightbulb, and note that the cdf at time $t$ can be thought of as the chance that the object dies before time $t$:\n",
    "\n",
    "$$\n",
    "\\begin{align*}\n",
    "F(t) ~ &= ~ P(T \\le t) \\\\\n",
    "&= ~ \\int_0^t \\lambda e^{-\\lambda s}ds \\\\\n",
    "&= ~ \\left. -e^{-\\lambda s} \\right\\rvert_0^t \\\\\n",
    "&= ~ 1 - e^{-\\lambda t}\n",
    "\\end{align*}\n",
    "$$\n",
    "\n",
    "The complementary event is that the object survives past time $t$, and therefore its probability defines the *survival function* $S$:\n",
    "\n",
    "$$\n",
    "S(t) ~ = ~ P(T > t) ~ = ~ 1 - F(t) ~ = ~ e^{-\\lambda t}\n",
    "$$"
   ]
  },
  {
   "cell_type": "markdown",
   "metadata": {},
   "source": [
    "### Memoryless Property ###\n",
    "The survival function tells us something unusual about exponentially distributed lifetimes. Let $s$ and $t$ be positive, and let's find the conditional probability that the object survives a further $s$ units of time given that it has already survived $t$.\n",
    "\n",
    "$$\n",
    "\\begin{align*}\n",
    "P(T > t+s \\mid T > t) ~ &= ~ \\frac{P(T > t+s, T > t)}{P(T > t)} \\\\ \n",
    "&= ~ \\frac{P(T > t+s)}{P(T > t)} \\\\\n",
    "&= ~ \\frac{e^{-\\lambda(t+s)}}{e^{-\\lambda t}} \\\\\n",
    "&= ~ e^{-\\lambda s} \\\\\n",
    "&= ~ P(T > s)\n",
    "\\end{align*}\n",
    "$$\n",
    "\n",
    "Notice that $t$ does not appear in the answer. So for example the chance that the object survives an additional year given that it has been alive for 50 years is the same as the chance that is survives a year when it starts out brand new. It *forgets* that it has already lived 50 years. \n",
    "\n",
    "This is called the *memoryless property* of the exponential distribution. It can be shown that the exponential and the geometric are the only two distributions that have the memoryless property. As you can see, the graph of the exponential density resembles the geometric probability histogram.\n",
    "\n",
    "The memoryless property is an excellent reason *not* to use the exponential distribution to model the lifetimes of people or of anything that ages. For lifetimes of things like lightbulbs or radioactive atoms, the exponential distribution often does fine."
   ]
  },
  {
   "cell_type": "markdown",
   "metadata": {},
   "source": [
    "### Mean and SD ###\n",
    "The expectation of $T$ is given by\n",
    "\n",
    "$$\n",
    "E(T) ~ = ~ \\int_0^{\\infty} t\\lambda e^{-\\lambda t} dt ~ = ~ \\frac{1}{\\lambda}\n",
    "$$\n",
    "\n",
    "either by integration by parts or by recognizing that the indefinite integral of $\\lambda te^{-\\lambda t}$ is $-te^{-\\lambda t} + e^{-\\lambda t}$. \n",
    "\n",
    "This result is an indication of why $\\lambda$ is called the rate of the lifetime distribution. The bigger $\\lambda$ is, the faster the item is expected to die.\n",
    "\n",
    "To find $E(T^2)$, you can use integration by parts again, or you can just accept that $E(T^2) = 2/\\lambda^2$ and therefore \n",
    "\n",
    "$$\n",
    "Var(T) ~ = ~ \\frac{1}{\\lambda^2} ~~~~ \\mbox{and } ~~~~ SD(T) = \\frac{1}{\\lambda}\n",
    "$$\n",
    "\n",
    "The SD of the exponential distribution is the same as the mean.\n",
    "\n",
    "The graph below shows the exponential density $f$ with the labeled points on the horizontal axis corresponding to standard units of -1, 0, 1, 2, and 3. The random variable $T$ can't be negative, and the density doesn't go further than 1 SD below the mean. The spread comes from the long right hand tail."
   ]
  },
  {
   "cell_type": "code",
   "execution_count": 3,
   "metadata": {
    "tags": [
     "remove_input"
    ]
   },
   "outputs": [
    {
     "data": {
      "image/png": "[encoded data removed]",
      "text/plain": [
       "<Figure size 432x288 with 1 Axes>"
      ]
     },
     "metadata": {
      "filenames": {
       "image/png": "C:\\Users\\septi\\Desktop\\Berkeley\\Fall 2022\\Data 88S\\textbook\\_build\\jupyter_execute\\content\\Chapter_10\\03_The_Exponential_Distribution_7_0.png"
      },
      "needs_background": "light"
     },
     "output_type": "display_data"
    }
   ],
   "source": [
    "# NO CODE\n",
    "\n",
    "lam = 5\n",
    "sd = 1/lam\n",
    "t = np.arange(0, 4.6*sd, 0.01)\n",
    "y = stats.expon.pdf(t, scale=sd)\n",
    "\n",
    "plt.plot(t, y, color='darkblue', lw=2)\n",
    "plt.xticks(np.arange(0, 4*sd+0.1, sd),\n",
    "          ['0', '$1/\\lambda$', '$2/\\lambda$', '$3/\\lambda$', '$4/\\lambda$'])\n",
    "plt.yticks([0, lam/4, lam/2, 3*lam/4, lam], \n",
    "           ['0','','','', '$\\lambda$'])\n",
    "plt.xlim(-0.01, 4.6*sd)\n",
    "plt.ylim(-0.05, lam)\n",
    "plt.xlabel('$t$')\n",
    "plt.ylabel('$f(t)$', rotation=0)\n",
    "plt.title('Exponential $(\\lambda)$ Density of $T$');"
   ]
  },
  {
   "cell_type": "markdown",
   "metadata": {},
   "source": [
    "### Median ###\n",
    "The figure below displays graphs of the cdf and survival function of $T$."
   ]
  },
  {
   "cell_type": "code",
   "execution_count": 4,
   "metadata": {
    "tags": [
     "remove_input"
    ]
   },
   "outputs": [
    {
     "data": {
      "image/png": "[encoded data removed]",
      "text/plain": [
       "<Figure size 432x288 with 1 Axes>"
      ]
     },
     "metadata": {
      "filenames": {
       "image/png": "C:\\Users\\septi\\Desktop\\Berkeley\\Fall 2022\\Data 88S\\textbook\\_build\\jupyter_execute\\content\\Chapter_10\\03_The_Exponential_Distribution_9_0.png"
      },
      "needs_background": "light"
     },
     "output_type": "display_data"
    }
   ],
   "source": [
    "# NO CODE\n",
    "\n",
    "plt.plot(t, stats.expon.cdf(t, scale=sd), color='r', lw=2, label='$F$')\n",
    "t = np.arange(0, 4.6*sd, 0.01)\n",
    "plt.plot(t, 1-stats.expon.cdf(t, scale=sd), color='g', lw=2, label='$S$')\n",
    "plt.legend()\n",
    "plt.xticks(np.arange(0, 4*sd+0.1, sd),\n",
    "          ['0', '$1/\\lambda$', '$2/\\lambda$', '$3/\\lambda$', '$4/\\lambda$'])\n",
    "plt.yticks(np.arange(0, 1.1, 0.25))\n",
    "plt.xlim(-0.01, 4.6*sd)\n",
    "plt.ylim(-0.05, 1.01)\n",
    "plt.xlabel('$t$')\n",
    "plt.ylabel('$F(t)$ and $S(t)$')\n",
    "plt.title('CDF and Survival Function of $T$');"
   ]
  },
  {
   "cell_type": "markdown",
   "metadata": {},
   "source": [
    "The two curves intersect at the vertical level $0.5$. \n",
    "\n",
    "This is because if $h$ is the value of $t$ at which the curves intersect, then:\n",
    "\n",
    "- $S(h) = 1 - F(h)$\n",
    "- $S(h) = F(h)$\n",
    "\n",
    "\n",
    "Therefore\n",
    "\n",
    "$$\n",
    "S(h) ~ = ~ 0.5 ~ = ~ F(h)\n",
    "$$\n",
    "\n",
    "That is,\n",
    "\n",
    "$$\n",
    "P(T > h) = 0.5 = P(T < h)\n",
    "$$\n",
    "\n",
    "The point $h$ is called the *median* of the distribution of $T$; we are using the notation $h$ for \"half\". We can find $h$ in terms of $\\lambda$ by using the formula for the survival function.\n",
    "\n",
    "$$\n",
    "\\begin{align*}\n",
    "e^{-\\lambda h} = 0.5 ~ &\\iff ~ -\\lambda h = \\log(0.5)\\\\\n",
    "&\\iff ~ \\lambda h =  \\log(2) \\\\\n",
    "&\\iff ~ h = \\frac{\\log(2)}{\\lambda} = \\log(2)E(T)\n",
    "\\end{align*}\n",
    "$$\n",
    "\n",
    "Because $\\log(2) < 1$, the median lifetime $h$ is less than the mean lifetime $E(T) = 1/\\lambda$ as you can see on the graph. This is consistent with an observation you made in Data 8: if a distribution has a right hand tail, the median is less than the mean."
   ]
  },
  {
   "cell_type": "markdown",
   "metadata": {},
   "source": [
    "### Half Life ###\n",
    "\n",
    "The exponential distribution is often used to model lifetimes of objects like radioactive atoms that spontaneously decay at an exponential rate. The *half life* of a radioactive isotope is defined as the time by which half of the atoms of the isotope will have decayed. That is, the half life is the median of the exponential lifetime of the atom. The parameter $\\lambda$ is called the *decay rate* of the atom. By the property of the median $h$ derived above, the relation between $\\lambda$ and the half life is\n",
    "\n",
    "$$\n",
    "h = \\frac{\\log(2)}{\\lambda}\n",
    "$$\n",
    "\n",
    "This relation shows that if you know the rate of decay of the isotope, you can find its half-life. By rearranging the relation you can see that if you know the half-life of the isotope then you can find the rate of decay:\n",
    "\n",
    "$$\n",
    "\\lambda = \\frac{\\log(2)}{h}\n",
    "$$"
   ]
  },
  {
   "cell_type": "markdown",
   "metadata": {},
   "source": [
    "### Radiocarbon Dating ###\n",
    "We can generalize the calculation above to any proportion. \n",
    "\n",
    "$$\n",
    "p ~ = ~ e^{-\\lambda t} ~ \\iff ~ t = \\frac{-\\log(p)}{\\lambda}\n",
    "$$\n",
    "\n",
    "This is used in [radiocarbon dating](https://en.wikipedia.org/wiki/Radiocarbon_dating), which is a method for estimating the age of an object containing animal or plant material. The method is based on the exponential decay of *radiocarbon* ($^{14}C$), an isotope of carbon ($C$). \n",
    "\n",
    "Here is a hugely simplified description of radiocarbon dating. Radiocarbon exists in the atmosphere. During their lifetimes, plants and animals are in equilibrium with the atmosphere and have the same proportion of radiocarbon as the atmosphere does. Once the plant or animal dies, it no longer acquires new atoms of radiocarbon. The amount of radiocarbon in it gradually decays, but other isoptopes of carbon, such as $^{14}C$, are *stable* and don't decay. These properties allow scientists to estimate the proportion of $^{14}C$ that remains in the organic matter being studied.\n",
    "\n",
    "If $p$ is that proportion, the model says\n",
    "\n",
    "$$\n",
    "p ~ = ~ e^{-\\lambda t}\n",
    "$$\n",
    "\n",
    "where $\\lambda$ is the decay rate of $^{14}C$ and $t$ is the time that has elapsed since the organic matter was alive.\n",
    "\n",
    "Therefore the time elapsed is\n",
    "\n",
    "$$\n",
    "t = \\frac{-\\log(p)}{\\lambda}\n",
    "$$\n",
    "\n",
    "and so we know when the organism was alive. \n",
    "\n",
    "It is known that the half life of $^{14}C$ is 5,730 years – radiocarbon hangs around for a *long* time before it decays. By our results about the half life,\n",
    "\n",
    "$$\n",
    "\\lambda ~ = ~ \\frac{\\log(2)}{5730}\n",
    "$$\n",
    "\n",
    "and therefore\n",
    "\n",
    "$$\n",
    "t ~ = ~  \\frac{-\\log(p)}{\\log(2)/5730}\n",
    "$$\n",
    "\n",
    "Thus for example if the proportion of $^{14}C$ remaining in the object is $0.3$, then time elapsed is\n",
    "\n",
    "$$\n",
    "t ~ = ~ \\frac{-\\log(0.3)}{\\log(2)/5730} ~ \\approx ~ 9953 \\text{ years }\n",
    "$$"
   ]
  },
  {
   "cell_type": "code",
   "execution_count": 5,
   "metadata": {},
   "outputs": [
    {
     "data": {
      "text/plain": [
       "9952.812854572363"
      ]
     },
     "execution_count": 5,
     "metadata": {},
     "output_type": "execute_result"
    }
   ],
   "source": [
    "-np.log(0.3) / (np.log(2) / 5730)"
   ]
  },
  {
   "cell_type": "markdown",
   "metadata": {},
   "source": [
    "We are estimating that the object is about 9,953 years old.\n",
    "\n",
    "It is important to keep in mind that the method produces an estimate, and therefore a margin of error has to be provided. This depends on details of the model that are beyond the scope of the course. But as an example, note that [Willard Libby](https://en.wikipedia.org/wiki/Willard_Libby), the physical chemist who received the Nobel Prize for developing the method of radiocarbon dating, used the method for estimating the age of the [Dead Sea Scrolls](https://en.wikipedia.org/wiki/Radiocarbon_dating#Dead_Sea_Scrolls). His estimate was 1,917 $\\pm$ 200 years.\n",
    "\n",
    "So the next time you are at a museum and a docent announces that a fossil is 11,000 years and 3 months old, \"because when I started working here 3 months ago they told me it was 11,000 years old,\" do smile politely, and then see if the written documentation includes a standard deviation."
   ]
  },
  {
   "cell_type": "code",
   "execution_count": null,
   "metadata": {},
   "outputs": [],
   "source": []
  }
 ],
 "metadata": {
  "anaconda-cloud": {},
  "celltoolbar": "Edit Metadata",
  "kernelspec": {
   "display_name": "Python 3",
   "language": "python",
   "name": "python3"
  },
  "language_info": {
   "codemirror_mode": {
    "name": "ipython",
    "version": 3
   },
   "file_extension": ".py",
   "mimetype": "text/x-python",
   "name": "python",
   "nbconvert_exporter": "python",
   "pygments_lexer": "ipython3",
   "version": "3.7.11"
  }
 },
 "nbformat": 4,
 "nbformat_minor": 4
}