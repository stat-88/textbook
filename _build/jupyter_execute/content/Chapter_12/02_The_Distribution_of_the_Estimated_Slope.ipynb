{
 "cells": [
  {
   "cell_type": "code",
   "execution_count": 1,
   "metadata": {
    "tags": [
     "remove_input"
    ]
   },
   "outputs": [],
   "source": [
    "# NO CODE\n",
    "\n",
    "from datascience import *\n",
    "%matplotlib inline\n",
    "import matplotlib.pyplot as plt\n",
    "plt.style.use('fivethirtyeight')\n",
    "import numpy as np\n",
    "from scipy import stats"
   ]
  },
  {
   "cell_type": "code",
   "execution_count": 2,
   "metadata": {
    "tags": [
     "remove_input"
    ]
   },
   "outputs": [],
   "source": [
    "# NO CODE\n",
    "\n",
    "def plot_t_normal(df):\n",
    "    x = np.arange(-6, 6.01, 0.01)\n",
    "    t_density = stats.t.pdf(x, df)\n",
    "    normal = stats.norm.pdf(x)\n",
    "    plt.figure(figsize=(8, 4))\n",
    "    plt.plot(x, t_density, lw=2, label='$t$ ('+str(df)+' degrees of freedom)')\n",
    "    plt.plot(x, normal, lw = 2, label = 'standard normal')\n",
    "    plt.legend(bbox_to_anchor=(0.5, 1));"
   ]
  },
  {
   "cell_type": "markdown",
   "metadata": {},
   "source": [
    "(ch12.2)=\n",
    "## The Distribution of the Estimated Slope ##"
   ]
  },
  {
   "cell_type": "markdown",
   "metadata": {},
   "source": [
    "Our estimate of the signal $Y = \\beta_0 + \\beta_1x$ is the corresponding point on the regression line:\n",
    "\n",
    "$$\n",
    "\\hat{Y} ~ = ~ \\hat{\\beta}_0 + \\hat{\\beta}_1x\n",
    "$$\n",
    "\n",
    "Here $\\hat{\\beta}_1$ is the slope of the regression line (we called it $\\hat{a}$ in our earlier calculations) and $\\hat{\\beta_0}$ is the intercept (we called it $\\hat{b}$) of the regression line.\n",
    "\n",
    "Recall that when we derived the formula for the best slope $\\hat{a}$, we first obtained\n",
    "\n",
    "$$\n",
    "\\hat{a} ~ = ~ \\frac{E(D_XD_Y)}{\\sigma_X^2}\n",
    "$$\n",
    "\n",
    "where $D_X$ and $D_Y$ were the deviations of $X$ and $Y$. In our current context, we must apply this formula to the empirical distribution of the data. That's easier than it sounds. For example, the variance $\\sigma_X^2$ is by definition the mean squared deviation, which becomes $\\frac{1}{n}\\sum_{i=1}^n (x_i - \\bar{x})^2$. The mean product of deviations $E(D_XD_Y)$ becomes $\\frac{1}{n}\\sum_{i=1}^n (x_i - \\bar{x})(Y_i - \\bar{Y})$."
   ]
  },
  {
   "cell_type": "markdown",
   "metadata": {},
   "source": [
    "### Estimated Slope ###\n",
    "\n",
    "The least-squares estimate of the true slope $\\beta_1$ is the slope of the regression line, given by\n",
    "\n",
    "$$\n",
    "\\hat{\\beta}_1 ~ = ~ \\frac{\\frac{1}{n}\\sum_{i=1}^n (x_i - \\bar{x})(Y_i - \\bar{Y})}{\\frac{1}{n}\\sum_{i=1}^n (x_i - \\bar{x})^2}\n",
    "$$\n",
    "\n",
    "The average response $\\bar{Y}$ is a linear combination of the independent normal random variables $Y_1, Y_2, \\ldots, Y_n$. Therefore so is the $i$th deviation $\\bar{Y_i} - \\bar{Y}$ for each $i$. \n",
    "\n",
    "Thus $\\hat{\\beta}_1$ is a linear combination of the independent normal random variables $Y_1, Y_2, \\ldots, Y_n$. Therefore the distribution of $\\hat{\\beta}_1$ is normal."
   ]
  },
  {
   "cell_type": "markdown",
   "metadata": {},
   "source": [
    "### Expectation of the Estimated Slope ###\n",
    "\n",
    "To identify the mean of the distribution of $\\hat{\\beta}_1$, recall that $E(Y_i) = \\beta_0 + \\beta_1x_i$ and $E(\\bar{Y}) = \\beta_0 + \\beta_1\\bar{x}$. So\n",
    "\n",
    "$$\n",
    "E(Y_i - \\bar{Y}) ~ = ~ \\beta_1(x_i - \\bar{x})\n",
    "$$\n",
    "\n",
    "Now\n",
    "\n",
    "$$\n",
    "\\begin{align*}\n",
    "E(\\hat{\\beta_1}) ~ &= ~ \\frac{\\frac{1}{n}\\sum_{i=1}^n (x_i - \\bar{x})E(Y_i - \\bar{Y})}{\\frac{1}{n}\\sum_{i=1}^n (x_i - \\bar{x})^2} \\\\ \\\\\n",
    "&= ~ \\frac{\\frac{1}{n}\\sum_{i=1}^n (x_i - \\bar{x})\\beta_1(x_i - \\bar{x})}{\\frac{1}{n}\\sum_{i=1}^n (x_i - \\bar{x})^2} \\\\ \\\\\n",
    "&= ~ \\frac{\\beta_1\\frac{1}{n}\\sum_{i=1}^n (x_i - \\bar{x})^2}{\\frac{1}{n}\\sum_{i=1}^n (x_i - \\bar{x})^2} \\\\ \\\\\n",
    "&= ~ \\beta_1\n",
    "\\end{align*}\n",
    "$$\n",
    "\n",
    "We have shown that $\\hat{\\beta_1}$ is an unbiased estimator of $\\beta_1$.\n",
    "\n",
    "The distribution of the estimated slope $\\hat{\\beta}_1$ is normal, centered at the true slope $\\beta_1$."
   ]
  },
  {
   "cell_type": "code",
   "execution_count": 3,
   "metadata": {
    "tags": [
     "remove_input"
    ]
   },
   "outputs": [
    {
     "data": {
      "image/png": "[encoded data removed]",
      "text/plain": [
       "<Figure size 432x288 with 1 Axes>"
      ]
     },
     "metadata": {
      "filenames": {
       "image/png": "C:\\Users\\septi\\Desktop\\Berkeley\\Fall 2022\\Data 88S\\textbook\\_build\\jupyter_execute\\content\\Chapter_12\\02_The_Distribution_of_the_Estimated_Slope_6_0.png"
      }
     },
     "output_type": "display_data"
    }
   ],
   "source": [
    "# NO CODE\n",
    "\n",
    "x = np.arange(-4, 4.01, 0.01)\n",
    "y = stats.norm.pdf(x)\n",
    "plt.plot(x, y, lw=2, color='darkblue')\n",
    "plt.plot([-4, 4], [0, 0], lw=1, color='k')\n",
    "plt.xticks([0], [r'$\\beta_1$'])\n",
    "plt.yticks([])\n",
    "plt.xlabel('')\n",
    "plt.title('Distribution of Estimated Slope');"
   ]
  },
  {
   "cell_type": "markdown",
   "metadata": {},
   "source": [
    "If we can find $Var(\\hat{\\beta}_1)$ then we can use this normal curve for inference. For example, \n",
    "\n",
    "$$\n",
    "\\hat{\\beta}_1 ~ \\pm ~ 2SD(\\hat{\\beta}_1)\n",
    "$$\n",
    "\n",
    "is a 95% confidence interval for $\\beta_1$."
   ]
  },
  {
   "cell_type": "markdown",
   "metadata": {},
   "source": [
    "### Variance of the Estimated Slope ###\n",
    "\n",
    "To find $Var(\\hat{\\beta}_1)$ is helps to know how to find variances of sums of dependent random variables, which is outside the scope of this class. So we will simply state that\n",
    "\n",
    "$$\n",
    "Var(\\hat{\\beta}_1) ~ = ~ \\frac{\\sigma^2}{\\sum_{i=1}^n (x_i - \\bar{x})^2}\n",
    "$$\n",
    "\n",
    "In fact we will not use the exact formula for the variance. It is enough to notice that:\n",
    "\n",
    "- The numerator is the constant error variance. The denominator gets larger (there are more terms) when $n$ increases. So the more data we have, the closer the estimated slope $\\hat{\\beta}_1$ will be to the true slope $\\beta_1$, most likely.\n",
    "- The expression for $Var(\\hat{\\beta}_1)$ involves the unknown error variance $\\sigma^2$, but no other unknown parameter is involved."
   ]
  },
  {
   "cell_type": "markdown",
   "metadata": {},
   "source": [
    "### Standard Error of the Estimated Slope ###\n",
    "We know that\n",
    "\n",
    "$$\n",
    "SD(\\hat{\\beta}_1) ~ = ~ \\frac{\\sigma}{\\sqrt{\\sum_{i=1}^n (x_i - \\bar{x})^2}}\n",
    "$$\n",
    "\n",
    "but we can't get a numerical value for this SD since $\\sigma$ is unknown.\n",
    "\n",
    "So we estimate $\\sigma$ based on the data, by using the SD of the residuals instead. When the standard deviation of an estimator is estimated from the data, it is sometimes called the *standard error* of the estimator. We will denote the standard error of $\\hat{\\beta}_1$ by $SE(\\hat{\\beta}_1)$.\n",
    "\n",
    "The larger $n$ is, the better the estimate of $\\sigma$. So for large $n$, the distribution of the standardized slope\n",
    "\n",
    "$$\n",
    "T ~ = ~ \\frac{\\hat{\\beta}_1 - \\beta_1}{SE(\\hat{\\beta}_1)}\n",
    "$$\n",
    "\n",
    "is approximately standard normal.\n",
    "\n",
    "Almost all programming languages and statistical systems come with modules or routines that carry out regression calculations. They will provide you with numerical values of $\\hat{\\beta}_1$ and $SE(\\hat{\\beta}_1)$. Here is an example."
   ]
  },
  {
   "cell_type": "markdown",
   "metadata": {},
   "source": [
    "### Pulse Rates ###\n",
    "\n",
    "The table `pulse` from the [R project](https://vincentarelbundock.github.io/Rdatasets/doc/Stat2Data/Pulse.html) contains data on the pulse rates of $232$ students before and after exercise. The first two columns are the active and resting pulse rates. "
   ]
  },
  {
   "cell_type": "code",
   "execution_count": 4,
   "metadata": {
    "tags": [
     "remove_input"
    ]
   },
   "outputs": [],
   "source": [
    "# NO CODE \n",
    "\n",
    "pulse = Table.read_table('../../data/pulse.csv').drop(0)"
   ]
  },
  {
   "cell_type": "code",
   "execution_count": 5,
   "metadata": {},
   "outputs": [
    {
     "data": {
      "text/html": [
       "<table border=\"1\" class=\"dataframe\">\n",
       "    <thead>\n",
       "        <tr>\n",
       "            <th>Active</th> <th>Rest</th> <th>Smoke</th> <th>Sex</th> <th>Exercise</th> <th>Hgt</th> <th>Wgt</th>\n",
       "        </tr>\n",
       "    </thead>\n",
       "    <tbody>\n",
       "        <tr>\n",
       "            <td>97    </td> <td>78  </td> <td>0    </td> <td>1   </td> <td>1       </td> <td>63  </td> <td>119 </td>\n",
       "        </tr>\n",
       "        <tr>\n",
       "            <td>82    </td> <td>68  </td> <td>1    </td> <td>0   </td> <td>3       </td> <td>70  </td> <td>225 </td>\n",
       "        </tr>\n",
       "        <tr>\n",
       "            <td>88    </td> <td>62  </td> <td>0    </td> <td>0   </td> <td>3       </td> <td>72  </td> <td>175 </td>\n",
       "        </tr>\n",
       "        <tr>\n",
       "            <td>106   </td> <td>74  </td> <td>0    </td> <td>0   </td> <td>3       </td> <td>72  </td> <td>170 </td>\n",
       "        </tr>\n",
       "        <tr>\n",
       "            <td>78    </td> <td>63  </td> <td>0    </td> <td>1   </td> <td>3       </td> <td>67  </td> <td>125 </td>\n",
       "        </tr>\n",
       "        <tr>\n",
       "            <td>109   </td> <td>65  </td> <td>0    </td> <td>0   </td> <td>3       </td> <td>74  </td> <td>188 </td>\n",
       "        </tr>\n",
       "        <tr>\n",
       "            <td>66    </td> <td>43  </td> <td>0    </td> <td>1   </td> <td>3       </td> <td>67  </td> <td>140 </td>\n",
       "        </tr>\n",
       "        <tr>\n",
       "            <td>68    </td> <td>65  </td> <td>0    </td> <td>0   </td> <td>3       </td> <td>70  </td> <td>200 </td>\n",
       "        </tr>\n",
       "        <tr>\n",
       "            <td>100   </td> <td>63  </td> <td>0    </td> <td>0   </td> <td>1       </td> <td>70  </td> <td>165 </td>\n",
       "        </tr>\n",
       "        <tr>\n",
       "            <td>70    </td> <td>59  </td> <td>0    </td> <td>1   </td> <td>2       </td> <td>65  </td> <td>115 </td>\n",
       "        </tr>\n",
       "    </tbody>\n",
       "</table>\n",
       "<p>... (222 rows omitted)</p>"
      ],
      "text/plain": [
       "Active | Rest | Smoke | Sex  | Exercise | Hgt  | Wgt\n",
       "97     | 78   | 0     | 1    | 1        | 63   | 119\n",
       "82     | 68   | 1     | 0    | 3        | 70   | 225\n",
       "88     | 62   | 0     | 0    | 3        | 72   | 175\n",
       "106    | 74   | 0     | 0    | 3        | 72   | 170\n",
       "78     | 63   | 0     | 1    | 3        | 67   | 125\n",
       "109    | 65   | 0     | 0    | 3        | 74   | 188\n",
       "66     | 43   | 0     | 1    | 3        | 67   | 140\n",
       "68     | 65   | 0     | 0    | 3        | 70   | 200\n",
       "100    | 63   | 0     | 0    | 1        | 70   | 165\n",
       "70     | 59   | 0     | 1    | 2        | 65   | 115\n",
       "... (222 rows omitted)"
      ]
     },
     "execution_count": 5,
     "metadata": {},
     "output_type": "execute_result"
    }
   ],
   "source": [
    "pulse"
   ]
  },
  {
   "cell_type": "markdown",
   "metadata": {},
   "source": [
    "Our goal is to predict the active pulse rate based on the resting pulse rate."
   ]
  },
  {
   "cell_type": "code",
   "execution_count": 6,
   "metadata": {},
   "outputs": [
    {
     "data": {
      "image/png": "[encoded data removed]",
      "text/plain": [
       "<Figure size 360x360 with 1 Axes>"
      ]
     },
     "metadata": {
      "filenames": {
       "image/png": "C:\\Users\\septi\\Desktop\\Berkeley\\Fall 2022\\Data 88S\\textbook\\_build\\jupyter_execute\\content\\Chapter_12\\02_The_Distribution_of_the_Estimated_Slope_14_0.png"
      }
     },
     "output_type": "display_data"
    }
   ],
   "source": [
    "pulse.scatter('Rest', 'Active')"
   ]
  },
  {
   "cell_type": "markdown",
   "metadata": {},
   "source": [
    "The scatter plot of the active rate versus the resting rate shows a linear relation. The plot is a bit wider in the middle than it is elsewhere, which indicates that the regression model's assumption of equal error variances for all individuals might not be satisfied. However, we can use the model as a rough approximation of reality.\n",
    "\n",
    "To use Python to perform the regression, we must first get the data in an appropriate form. One way is to extract the values of the response and predictor variables as arrays."
   ]
  },
  {
   "cell_type": "code",
   "execution_count": 7,
   "metadata": {},
   "outputs": [],
   "source": [
    "active = pulse.column(0)\n",
    "resting = pulse.column(1)"
   ]
  },
  {
   "cell_type": "markdown",
   "metadata": {},
   "source": [
    "The call `stats.linregress(x, y)` performs the simple linear regression of the array `y` on the array `x`. That means $y$ is the response and $x$ the predictor variable."
   ]
  },
  {
   "cell_type": "code",
   "execution_count": 8,
   "metadata": {},
   "outputs": [
    {
     "data": {
      "text/plain": [
       "LinregressResult(slope=1.1428796819048308, intercept=13.182572776013359, rvalue=0.6041870881060092, pvalue=1.7861044071652305e-24, stderr=0.09938884436389143, intercept_stderr=6.864430036166791)"
      ]
     },
     "execution_count": 8,
     "metadata": {},
     "output_type": "execute_result"
    }
   ],
   "source": [
    "stats.linregress(x=resting, y=active)"
   ]
  },
  {
   "cell_type": "markdown",
   "metadata": {},
   "source": [
    "That's a bit of a mess. Let's assign each element of the output to a name. Note that `stderr` is the SE of the slope."
   ]
  },
  {
   "cell_type": "code",
   "execution_count": 9,
   "metadata": {},
   "outputs": [
    {
     "data": {
      "text/plain": [
       "(1.1428796819048308,\n",
       " 13.182572776013359,\n",
       " 0.6041870881060092,\n",
       " 1.7861044071652305e-24,\n",
       " 0.09938884436389143)"
      ]
     },
     "execution_count": 9,
     "metadata": {},
     "output_type": "execute_result"
    }
   ],
   "source": [
    "slope, intercept, r, p, se_slope = stats.linregress(x=resting, y=active)\n",
    "slope, intercept, r, p, se_slope"
   ]
  },
  {
   "cell_type": "markdown",
   "metadata": {},
   "source": [
    "The numbers in the output are the observed values of:\n",
    "\n",
    "- the estimated slope $\\hat{\\beta}_1$\n",
    "- the estimated intercept $\\hat{\\beta_0}$\n",
    "- the correlation $r$\n",
    "- the $p$-value of a test that we will describe below\n",
    "- the standard error of the estimated slope, $SE(\\hat{\\beta}_1)$.\n",
    "\n",
    "The sample size is large ($232$), so the distribution of $\\hat{\\beta}_1$ is approximately normal with mean $\\beta_1$ and SD approximately equal to $SE(\\hat{\\beta}_1)$. Therefore the calculation below results in an approximate 95% confidence interval for the true slope $\\beta_1$."
   ]
  },
  {
   "cell_type": "code",
   "execution_count": 10,
   "metadata": {},
   "outputs": [
    {
     "data": {
      "text/plain": [
       "(0.9441019931770479, 1.3416573706326136)"
      ]
     },
     "execution_count": 10,
     "metadata": {},
     "output_type": "execute_result"
    }
   ],
   "source": [
    "# Approximate 95% confidence interval for the true slope\n",
    "\n",
    "slope - 2*se_slope, slope + 2*se_slope"
   ]
  },
  {
   "cell_type": "markdown",
   "metadata": {},
   "source": [
    "A fundamentally important question is whether the true slope $\\beta_1$ is $0$. If it is $0$ then the resting pulse rate isn't involved in the prediction of the active pulse rate, according to the regression model.\n",
    "\n",
    "The 95% confidence interval for the slope doesn't contain 0, so we can conclude (at the 5% level) that the true slope isn't 0. We can also carry out a formal test of hypotheses as follows.\n",
    "\n",
    "- $H_0$: $\\beta_1 = 0$\n",
    "- $H_A$: $\\beta_1 \\ne 0$\n",
    "\n",
    "Under the null hypothesis, the distribution of the standardized slope\n",
    "\n",
    "$$\n",
    "T ~ = ~ \\frac{\\hat{\\beta}_1 - 0}{SE(\\hat{\\beta}_1)}\n",
    "$$\n",
    "\n",
    "is approximately standard normal. The observed value of the test statistic is $11.5$."
   ]
  },
  {
   "cell_type": "code",
   "execution_count": 11,
   "metadata": {},
   "outputs": [
    {
     "data": {
      "text/plain": [
       "11.499074058255635"
      ]
     },
     "execution_count": 11,
     "metadata": {},
     "output_type": "execute_result"
    }
   ],
   "source": [
    "# observed statistic under H_0:\n",
    "\n",
    "(slope - 0) / se_slope"
   ]
  },
  {
   "cell_type": "markdown",
   "metadata": {},
   "source": [
    "The observed slope is $11.5$ standard errors above the expected slope of $0$ under the null hypothesis. That's a whole lot of standard errors away from expectation. The data are not consistent with $H_0$; they favor the alternative hypothesis that the true slope is not $0$.\n",
    "\n",
    "The output of `stats.linregress` provides the $p$-value of this test. Not surprisingly, it is microscopically small."
   ]
  },
  {
   "cell_type": "code",
   "execution_count": 12,
   "metadata": {},
   "outputs": [
    {
     "data": {
      "text/plain": [
       "1.7861044071652305e-24"
      ]
     },
     "execution_count": 12,
     "metadata": {},
     "output_type": "execute_result"
    }
   ],
   "source": [
    "# p-value\n",
    "\n",
    "p"
   ]
  },
  {
   "cell_type": "markdown",
   "metadata": {},
   "source": [
    "### $t$ Statistic ###\n",
    "\n",
    "The calculation above relies on the sample size being large enough so that $SE(\\hat{\\beta}_1)$ is almost certain to be essentially equal to $SD(\\hat{\\beta}_1)$. When the sample size is small or moderate, this might not be a good assumption.  \n",
    "\n",
    "Fortunately, it turns out that it is possible to identify the exact distribution of $T$ for any sample size $n$. It is one of a family of bell-shaped distributions called the *$t$ distributions*. \n",
    "\n",
    "All $t$ distributions are symmetric around 0, just as the standard normal distribution is. \n",
    "\n",
    "The family of $t$ distributions is indexed by the positive integers: there's the $t$-distribution Number 1, the $t$-distribution Number 2, and so on. For reasons we won't go into, statisticians refer to the index as the *degrees of freedom* of the distribution.\n",
    "\n",
    "The $t$ density looks like the standard normal curve, except that it has fatter tails. In the figure below, the red curve is the standard normal density and the blue curve is the $t$ density with $3$ degrees of freedom."
   ]
  },
  {
   "cell_type": "code",
   "execution_count": 13,
   "metadata": {
    "tags": [
     "remove_input"
    ]
   },
   "outputs": [
    {
     "data": {
      "image/png": "[encoded data removed]",
      "text/plain": [
       "<Figure size 576x288 with 1 Axes>"
      ]
     },
     "metadata": {
      "filenames": {
       "image/png": "C:\\Users\\septi\\Desktop\\Berkeley\\Fall 2022\\Data 88S\\textbook\\_build\\jupyter_execute\\content\\Chapter_12\\02_The_Distribution_of_the_Estimated_Slope_28_0.png"
      }
     },
     "output_type": "display_data"
    }
   ],
   "source": [
    "# NO CODE \n",
    "\n",
    "plot_t_normal(3)"
   ]
  },
  {
   "cell_type": "markdown",
   "metadata": {},
   "source": [
    "You can see that the $t$ distribution has a bit more weight in the tails than the standard normal does. It gives us just the right additional amount of wiggle room to account for the fact that we are estimating the unknown error variance $\\sigma^2$ based on the data."
   ]
  },
  {
   "cell_type": "markdown",
   "metadata": {},
   "source": [
    "When the degrees of freedom are larger then the $t$ distributions are almost indistinguishable from the standard normal as you can see below. So it's fine to use normal approximations the estimated slope when the sample size is large. "
   ]
  },
  {
   "cell_type": "code",
   "execution_count": 14,
   "metadata": {
    "tags": [
     "remove_input"
    ]
   },
   "outputs": [
    {
     "data": {
      "image/png": "[encoded data removed]",
      "text/plain": [
       "<Figure size 576x288 with 1 Axes>"
      ]
     },
     "metadata": {
      "filenames": {
       "image/png": "C:\\Users\\septi\\Desktop\\Berkeley\\Fall 2022\\Data 88S\\textbook\\_build\\jupyter_execute\\content\\Chapter_12\\02_The_Distribution_of_the_Estimated_Slope_31_0.png"
      }
     },
     "output_type": "display_data"
    }
   ],
   "source": [
    "# NO CODE \n",
    "\n",
    "plot_t_normal(20)"
   ]
  },
  {
   "cell_type": "markdown",
   "metadata": {},
   "source": [
    "For reasons we won't go into, under the regression model the exact distribution of the standardized slope $T$ is $t$ Number $n-2$ when the sample size is $n$. That is, for any sample size $n$, the standardized slope\n",
    "\n",
    "$$\n",
    "T ~ = ~ \\frac{\\hat{\\beta}_1 - \\beta_1}{SE(\\hat{\\beta}_1)}\n",
    "$$\n",
    "\n",
    "has the $t$ distribution with $n-2$ degrees of freedom. \n",
    "\n",
    "When the sample size $n$ is large, so is $n-2$, so we might as well use the normal curve. When the sample is size is small, using the appropriate $t$ curve gives more accurate answers.\n",
    "\n",
    "To remember the number of degrees of freedom, keep in mind that we are basing our estimate of the response $Y$ on the two estimated parameters $\\hat{\\beta}_0$ and $\\hat{\\beta}_1$. Start with degrees of freedom equal to the sample size, and then lose one degree of freedom each for the intercept and slope. This rule can be extended to the case of multiple regression, as we will see in the next section."
   ]
  }
 ],
 "metadata": {
  "celltoolbar": "Edit Metadata",
  "kernelspec": {
   "display_name": "Python 3",
   "language": "python",
   "name": "python3"
  },
  "language_info": {
   "codemirror_mode": {
    "name": "ipython",
    "version": 3
   },
   "file_extension": ".py",
   "mimetype": "text/x-python",
   "name": "python",
   "nbconvert_exporter": "python",
   "pygments_lexer": "ipython3",
   "version": "3.7.11"
  }
 },
 "nbformat": 4,
 "nbformat_minor": 4
}