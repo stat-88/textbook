{
 "cells": [
  {
   "cell_type": "code",
   "execution_count": 1,
   "metadata": {
    "tags": [
     "remove_input"
    ]
   },
   "outputs": [],
   "source": [
    "# NO CODE\n",
    "from prob140 import *\n",
    "from datascience import *\n",
    "import numpy as np\n",
    "from scipy import stats\n",
    "\n",
    "import matplotlib.pyplot as plt\n",
    "%matplotlib inline\n",
    "import matplotlib\n",
    "matplotlib.style.use('fivethirtyeight')"
   ]
  },
  {
   "cell_type": "markdown",
   "metadata": {},
   "source": [
    "## Random Variables ##"
   ]
  },
  {
   "cell_type": "markdown",
   "metadata": {},
   "source": [
    "Random numerical quantities such as \"the number of heads in ten tosses of a coin\" are called random variables. The terminology and notation of random variables helps reduce the amount of writing involved in phrases like \"the chance that there are no more than 4 heads in ten tosses of a coin.\"\n",
    "\n",
    "Formally, suppose you have an outcome space $\\Omega$. A *random variable* is a numerical function on $\\Omega$. That is, a random variable is a function whose domain is $\\Omega$ and whose range is the number line."
   ]
  },
  {
   "cell_type": "markdown",
   "metadata": {},
   "source": [
    "### Number of Heads in Three Tosses ###\n",
    "\n",
    "As our first example, we will formally define a random count: the number of heads in three tosses of a coin.\n",
    "\n",
    "The outcome space is\n",
    "\n",
    "$$\n",
    "\\Omega ~ = ~ \\{ HHH, HHT, HTH, THH, HTT, THT, TTH, TTT \\}\n",
    "$$\n",
    "\n",
    "Random variables are typically denoted by upper case letters, often late letters in the alphabet.\n",
    "\n",
    "So let the random variable $X$ be the number of heads in three tosses. For every outcome, $X$ counts the number of heads in the outcome, as shown in the table below.\n",
    "\n",
    "|$\\text{outcome}$|$X(\\text{outcome})$|\n",
    "|:-----:|---------------------------:|\n",
    "|HHH    |$~~~~~~~~~~~~~~~~~~~~~~3$   |\n",
    "|HHT    |$~~~~~~~~~~~~~~~~~~~~~~2$   |\n",
    "|HTH    |$~~~~~~~~~~~~~~~~~~~~~~2$   |\n",
    "|THH    |$~~~~~~~~~~~~~~~~~~~~~~2$   |\n",
    "|HTT    |$~~~~~~~~~~~~~~~~~~~~~~1$   |\n",
    "|THT    |$~~~~~~~~~~~~~~~~~~~~~~1$   |\n",
    "|TTH    |$~~~~~~~~~~~~~~~~~~~~~~1$   |\n",
    "|TTT    |$~~~~~~~~~~~~~~~~~~~~~~0$   |\n",
    "\n",
    "The *possible values* of $X$ are $0, 1, 2, 3$, because those are the numbers of heads you can get if you toss a coin three times. \n",
    "\n",
    "Now let's introduce probabilities. The coin is fair, so all outcomes are equally likely.\n",
    "\n",
    "|$\\text{outcome}$|$X(\\text{outcome})$|$\\text{Probability}$|\n",
    "|:-----:|---------------------------:|:------------------:|\n",
    "|HHH    |$~~~~~~~~~~~~~~~~~~~~~~3$   |1/8                 |\n",
    "|HHT    |$~~~~~~~~~~~~~~~~~~~~~~2$   |1/8                 |\n",
    "|HTH    |$~~~~~~~~~~~~~~~~~~~~~~2$   |1/8                 |\n",
    "|THH    |$~~~~~~~~~~~~~~~~~~~~~~2$   |1/8                 |\n",
    "|HTT    |$~~~~~~~~~~~~~~~~~~~~~~1$   |1/8                 |\n",
    "|THT    |$~~~~~~~~~~~~~~~~~~~~~~1$   |1/8                 |\n",
    "|TTH    |$~~~~~~~~~~~~~~~~~~~~~~1$   |1/8                 |\n",
    "|TTT    |$~~~~~~~~~~~~~~~~~~~~~~0$   |1/8                 |\n",
    "\n",
    "There is only one outcome (HHH) for which the number of heads is 3. The chance of that outcome is 1/8, so we say, \"The chance of three heads is 1/8.\" And we write\n",
    "\n",
    "$$\n",
    "P(X = 3) ~ = ~ 1/8\n",
    "$$\n",
    "\n",
    "There are three outcomes (HHT, HTH, THH) for which the number of heads is two. The chance of getting two heads is the *total chance* of these three outcomes:\n",
    "\n",
    "$$\n",
    "P(X = 2) ~ = ~ 3/8\n",
    "$$\n",
    "\n",
    "Similarly,\n",
    "\n",
    "$$\n",
    "P(X = 1) ~ = ~ 3/8\n",
    "$$\n",
    "\n",
    "and\n",
    "\n",
    "$$\n",
    "P(X = 0) ~ = ~ 1/8\n",
    "$$\n",
    "\n",
    "We can display all this information more compactly in a *probability distribution table* for $X$, known for short as a distribution table.\n",
    "\n",
    "|$\\text{Possible value } x$|$~~0~~$|$~~1~~$|$~~2~~$|$~~3~~$|\n",
    "|-------------------------:|:-----:|:-----:|:-----:|:-----:|\n",
    "|$P(X = x)$               |$1/8$   |$3/8$  |$3/8$  |$1/8$  |\n",
    "\n",
    "Notice the lower case letter $x$ as notation for a generic possible value of $X$. Keep in mind that $X$ is the name of the random variable whereas $x$ is a number. \n",
    "\n",
    "For the generic value of $X$, you don't have to use $x$ as the notation. You can use any letter you like, but it should be lower case as upper case is used for events and random variables."
   ]
  },
  {
   "cell_type": "markdown",
   "metadata": {},
   "source": [
    "### Distribution (pmf) ###\n",
    "The *probability distribution* of a random variable, or distribution for short, is the set of all possible values of the random variables along with all of the corresponding probabilities.\n",
    "\n",
    "When random variables have a finite number of possible values, as in the case of our example $X$, the distribution can be displayed in a table. The probabilities can also be written in a formula, as we will see in the next section.\n",
    "\n",
    "The probabilities in a distribution must add up to 1. \n",
    "\n",
    "This is clear because $X$ has to have one of the possible values and it can't have two values at once. So by the addition rule, the total chance of all the values should be the chance of the set of all outcomes, which is 1.\n",
    "\n",
    "The distribution of a random variable is sometimes called a *probability mass function*, abbreviated to *pmf*. That is because some probabilists like to visualize probabilities as masses attached to the possible values."
   ]
  },
  {
   "cell_type": "markdown",
   "metadata": {},
   "source": [
    "### Probability Histogram ###\n",
    "The probability histogram is a natural way to visualize the distribution of a random variable. In a histogram, the areas of the bars represent probabilities. Later in the course we will see why this is important."
   ]
  },
  {
   "cell_type": "code",
   "execution_count": 2,
   "metadata": {
    "tags": [
     "remove_input"
    ]
   },
   "outputs": [
    {
     "data": {
      "image/png": "[encoded data removed]",
      "text/plain": [
       "<Figure size 432x288 with 1 Axes>"
      ]
     },
     "metadata": {
      "filenames": {
       "image/png": "/mnt/c/Users/septi/Desktop/Berkeley/Summer 2022/Jupyter Book/Stat 88/textbook/_build/jupyter_execute/content/Chapter_03/02_Random_Variables_6_0.png"
      }
     },
     "output_type": "display_data"
    }
   ],
   "source": [
    "# NO CODE\n",
    "\n",
    "k = range(4)\n",
    "probs = stats.binom.pmf(k, 3, 0.5)\n",
    "h_3 = Table().values(k).probabilities(probs)\n",
    "Plot(h_3)\n",
    "plt.title('Distribution of $X$');"
   ]
  },
  {
   "cell_type": "markdown",
   "metadata": {},
   "source": [
    "### Probabilities ###\n",
    "Once you have the distribution of a random variable, you can find the chance of any event determined by the random variable. Just identify the possible values that are in the event, and add up all their chances. \n",
    "\n",
    "For example, \n",
    "\n",
    "$$\n",
    "\\begin{align*}\n",
    "P(X > 0) ~ &= ~ P(X = 1) + P(X = 2) + P(X = 3)\\\\\n",
    "&= ~ \\frac{3}{8} + \\frac{3}{8} + \\frac{1}{8} ~ = ~ \\frac{7}{8}\n",
    "\\end{align*}\n",
    "$$\n",
    "\n",
    "This could also have been calculated as\n",
    "\n",
    "$$\n",
    "P(X > 0) ~ = ~ 1 - P(X = 0) ~ = ~ 1 - \\frac{1}{8} ~ = ~ \\frac{7}{8}\n",
    "$$\n",
    "\n",
    "As you can see, the only thing new in these calculations is the notation."
   ]
  },
  {
   "cell_type": "code",
   "execution_count": 3,
   "metadata": {
    "tags": [
     "remove_input"
    ]
   },
   "outputs": [
    {
     "data": {
      "image/png": "[encoded data removed]",
      "text/plain": [
       "<Figure size 432x288 with 1 Axes>"
      ]
     },
     "metadata": {
      "filenames": {
       "image/png": "/mnt/c/Users/septi/Desktop/Berkeley/Summer 2022/Jupyter Book/Stat 88/textbook/_build/jupyter_execute/content/Chapter_03/02_Random_Variables_8_0.png"
      }
     },
     "output_type": "display_data"
    }
   ],
   "source": [
    "# NO CODE\n",
    "\n",
    "Plot(h_3, event = range(1, 4))\n",
    "plt.title('Gold Area = $P(X > 0)$');"
   ]
  },
  {
   "cell_type": "markdown",
   "metadata": {},
   "source": [
    "### Equality ###\n",
    "There is one important new idea to keep in mind when studying random variables, which is that random variables have two different kinds of equality.\n",
    "\n",
    "Rather than talk in generalities, let's look at an example. Consider rolling two dice. Let $D_1$ be the number on the first roll and $D_2$ the number on the second. For example, if the outcome of the two rolls is the pair $(4, 3)$ then $D_1((4, 3)) = 4$ and $D_2((4, 3)) = 3$.\n",
    "\n",
    "This shows that as functions on the outcome space, $D_1$ and $D_2$ are *not equal*. For the outcome $(4, 3)$, the value of $D_1$ is different from the value of $D_2$.\n",
    "\n",
    "However, $D_1$ and $D_2$ clearly have something in common. *They have the same distribution,* shown in the table below.\n",
    "\n",
    "|$\\text{Possible value }$|$~~1~~$|$~~2~~$|$~~3~~$|$~~4~~$|$~~5~~$|$~~6~~$|\n",
    "|-------------------------:|:-----:|:-----:|:-----:|:-----:|:-----:|:-----:|\n",
    "|$\\text{Probability}$      |$1/6$   |$1/6$  |$1/6$  |$1/6$  |$1/6$  |$1/6$ |\n",
    "\n",
    "This is called the *uniform distribution* on $\\{1, 2, 3, 4, 5, 6 \\}$.\n",
    "\n",
    "We say that $D_1$ and $D_2$ are equal in distribution. But remember: they are not equal."
   ]
  },
  {
   "cell_type": "code",
   "execution_count": null,
   "metadata": {},
   "outputs": [],
   "source": []
  }
 ],
 "metadata": {
  "celltoolbar": "Edit Metadata",
  "kernelspec": {
   "display_name": "Python 3",
   "language": "python",
   "name": "python3"
  },
  "language_info": {
   "codemirror_mode": {
    "name": "ipython",
    "version": 3
   },
   "file_extension": ".py",
   "mimetype": "text/x-python",
   "name": "python",
   "nbconvert_exporter": "python",
   "pygments_lexer": "ipython3",
   "version": "3.8.10"
  }
 },
 "nbformat": 4,
 "nbformat_minor": 4
}