{
 "cells": [
  {
   "cell_type": "code",
   "execution_count": 1,
   "metadata": {
    "tags": [
     "remove_input"
    ]
   },
   "outputs": [],
   "source": [
    "# NO CODE\n",
    "\n",
    "from prob140 import *\n",
    "from datascience import *\n",
    "import numpy as np\n",
    "from scipy import stats\n",
    "\n",
    "import matplotlib.pyplot as plt\n",
    "%matplotlib inline\n",
    "import matplotlib\n",
    "matplotlib.style.use('fivethirtyeight')"
   ]
  },
  {
   "cell_type": "markdown",
   "metadata": {},
   "source": [
    "## Variance and Standard Deviation ##"
   ]
  },
  {
   "cell_type": "markdown",
   "metadata": {},
   "source": [
    "Let $X$ be a random variable and let $\\mu_X = E(X)$. The *deviation from expected value*, informally called the deviation from average or just deviation for short, is defined as the difference\n",
    "\n",
    "$$\n",
    "D ~ = ~ X - \\mu_X\n",
    "$$\n",
    "\n",
    "Thus $D$ is the amount by which $X$ exceeds its expectation $\\mu_X$. Note that $D$ is negative when $X < \\mu_X$.\n",
    "\n",
    "The goal of this section is to quantify the rough size of $D$. One natural approach is to find $E(D)$, but that results in\n",
    "\n",
    "$$\n",
    "E(D) ~ = ~ E(X - \\mu_X) ~ = ~ E(X) - \\mu_X ~ = ~ 0\n",
    "$$\n",
    "\n",
    "No matter what the distribution of $X$, the expected deviation from average is 0: all the positive deviations exactly cancel out all the negative ones.\n",
    "\n",
    "The expected deviation isn't a useful measure because it's 0 for every $X$. But it does help us understand what we have in mind when we say \"rough size\" of $D$: we mean the value of $D$ regardless of the sign. "
   ]
  },
  {
   "cell_type": "markdown",
   "metadata": {},
   "source": [
    "### Variance ###\n",
    "\n",
    "We could measure the rough size of $D$ by $E(\\vert D \\vert)$, but expectations of absolute values don't have nice math properties. In particular, they don't work well with sums. But because of Pythagoras' Theorem, *squares* of distances do have good properties, especially with sums. so we will define a measure called the *variance* of $X$ by\n",
    "\n",
    "$$\n",
    "Var(X) ~ = ~ E(D^2) ~ = ~ E((X - \\mu_X)^2)\n",
    "$$\n",
    "\n",
    "The variance of $X$ is non-negative because $D^2$ is a non-negative variable. Indeed, $Var(X)$ is strictly positive except if $X$ is just a constant.\n",
    "\n",
    "Notice that variance is an expectation: it is the expectation of a non-linear function of $X$. To calculate it, we can apply our familiar method of finding expectations of non-linear functions."
   ]
  },
  {
   "cell_type": "markdown",
   "metadata": {},
   "source": [
    "### Standard Deviation ###\n",
    "\n",
    "Calculating variance takes care of the problem of positive and negative deviations canceling out. But it introduces a different problem, which is that variance is the expected *squared* deviation and thus has different units from the original variable $X$. For example, if $X$ is a weight in pounds then $Var(X)$ is in squared pounds, and squared pounds aren't easy to undertand.\n",
    "\n",
    "To fix this problem we take the square root of the variance. The resulting quantity has the same units as $X$ and is called the *standard deviation* or SD of $X$.\n",
    "\n",
    "$$\n",
    "SD(X) ~ = ~ \\sqrt{Var(X)} ~ = ~ \\sqrt{E((X - \\mu_X)^2)}\n",
    "$$\n",
    "\n",
    "The standard deviation will be our main measure of the variability in a random variable. We will look carefully at its use and interpretation. But first, let's write the steps to calculate it.\n",
    "\n",
    "Remember that the point of the SD is to measure the rough size of deviations around the expectation of $X$. So start by calculating the expectation.\n",
    "\n",
    "- Find $\\mu_X$.\n",
    "- Find the deviation $D = X - \\mu_X$.\n",
    "- Square the deviation to get rid of the signs: $D^2 = (X - \\mu_X)^2$.\n",
    "- Find the mean squared deviation, also known as the variance: $Var(X) = E((X - \\mu_X)^2)$.\n",
    "- Take the square root of the variance to get the standard deviation: $SD(X) = \\sqrt{Var(X)}$\n",
    "\n",
    "If you go backwards along these steps you will see why the SD is called the *root mean square of deviations from average*."
   ]
  },
  {
   "cell_type": "markdown",
   "metadata": {},
   "source": [
    "### Example ###\n",
    "\n",
    "Let $X$ have the distribution given below.\n",
    "\n",
    "|$~~~~~~~~~~ x$| $3$ | $4$ | $5$ |\n",
    "|-------------:|:---:|:---:|:---:|\n",
    "|$P(X = x)$ | $0.35$ | $0.5$ | $0.15$ |\n",
    "\n",
    "Then \n",
    "\n",
    "$$\n",
    "E(X) ~ = ~ 3(0.35) + 4(0.5) + 5(0.15) ~ = ~ 3.8\n",
    "$$\n",
    "\n",
    "and is marked by a red arrow on the horizontal axis of the probability histogram below."
   ]
  },
  {
   "cell_type": "code",
   "execution_count": 2,
   "metadata": {
    "tags": [
     "remove_input"
    ]
   },
   "outputs": [
    {
     "data": {
      "image/png": "[encoded data removed]",
      "text/plain": [
       "<Figure size 432x288 with 1 Axes>"
      ]
     },
     "metadata": {
      "filenames": {
       "image/png": "/mnt/c/Users/septi/Desktop/Berkeley/Summer 2022/Jupyter Book/Stat 88/textbook/_build/jupyter_execute/_site/content/notebooks/Chapter_06/01_Variance_and_Standard_Deviation_6_0.png"
      }
     },
     "output_type": "display_data"
    }
   ],
   "source": [
    "# NO CODE\n",
    "\n",
    "x = make_array(3, 4, 5)\n",
    "probs = make_array(0.35, 0.5, 0.15)\n",
    "dist_X = Table().values(x).probabilities(probs)\n",
    "Plot(dist_X, show_ev=True)\n",
    "plt.title('Distribution of $X$')\n",
    "plt.xlabel('$x$');"
   ]
  },
  {
   "cell_type": "code",
   "execution_count": 3,
   "metadata": {
    "tags": [
     "remove_input"
    ]
   },
   "outputs": [],
   "source": [
    "# NO CODE\n",
    "\n",
    "variance_table = Table().with_columns(\n",
    "    'x', dist_X.column(0),\n",
    "    '(x - E(X))**2', (dist_X.column(0)-3.8)**2,\n",
    "    'P(X = x)', dist_X.column(1)\n",
    ")"
   ]
  },
  {
   "cell_type": "markdown",
   "metadata": {},
   "source": [
    "The table below shows the distribution of $X$ along with the squared deviations:"
   ]
  },
  {
   "cell_type": "code",
   "execution_count": 4,
   "metadata": {},
   "outputs": [
    {
     "data": {
      "text/html": [
       "<table border=\"1\" class=\"dataframe\">\n",
       "    <thead>\n",
       "        <tr>\n",
       "            <th>x</th> <th>(x - E(X))**2</th> <th>P(X = x)</th>\n",
       "        </tr>\n",
       "    </thead>\n",
       "    <tbody>\n",
       "        <tr>\n",
       "            <td>3   </td> <td>0.64         </td> <td>0.35    </td>\n",
       "        </tr>\n",
       "        <tr>\n",
       "            <td>4   </td> <td>0.04         </td> <td>0.5     </td>\n",
       "        </tr>\n",
       "        <tr>\n",
       "            <td>5   </td> <td>1.44         </td> <td>0.15    </td>\n",
       "        </tr>\n",
       "    </tbody>\n",
       "</table>"
      ],
      "text/plain": [
       "x    | (x - E(X))**2 | P(X = x)\n",
       "3    | 0.64          | 0.35\n",
       "4    | 0.04          | 0.5\n",
       "5    | 1.44          | 0.15"
      ]
     },
     "execution_count": 4,
     "metadata": {},
     "output_type": "execute_result"
    }
   ],
   "source": [
    "variance_table"
   ]
  },
  {
   "cell_type": "markdown",
   "metadata": {},
   "source": [
    "We now have\n",
    "\n",
    "$$\n",
    "Var(X) ~ = ~ E((X - \\mu_X)^2) ~ = ~ 0.64(0.35) + 0.04(0.5) + 1.44(0.15) ~ = ~ 0.46\n",
    "$$"
   ]
  },
  {
   "cell_type": "code",
   "execution_count": 5,
   "metadata": {},
   "outputs": [
    {
     "data": {
      "text/plain": [
       "0.45999999999999996"
      ]
     },
     "execution_count": 5,
     "metadata": {},
     "output_type": "execute_result"
    }
   ],
   "source": [
    "var_X = sum(variance_table.column(1) * variance_table.column(2))\n",
    "var_X"
   ]
  },
  {
   "cell_type": "markdown",
   "metadata": {},
   "source": [
    "The standard deviation can now be calculated as\n",
    "\n",
    "$$\n",
    "SD(X) ~ = ~ \\sqrt{Var(X)} ~ = ~ \\sqrt{0.46} ~ \\approx ~ 0.68 \n",
    "$$\n",
    "\n",
    "The points $E(X) \\pm SD(X)$ are $3.8 - 0.68 = 3.12$ and $3.8 + 0.68 = 4.48$. These are the blue arrows in the figure below, shown to indicate the sense in which the SD measures the \"rough size\" of the deviations. We will have much more to say about interpretation in later sections."
   ]
  },
  {
   "cell_type": "code",
   "execution_count": 6,
   "metadata": {
    "tags": [
     "remove_input"
    ]
   },
   "outputs": [
    {
     "data": {
      "image/png": "[encoded data removed]",
      "text/plain": [
       "<Figure size 432x288 with 1 Axes>"
      ]
     },
     "metadata": {
      "filenames": {
       "image/png": "/mnt/c/Users/septi/Desktop/Berkeley/Summer 2022/Jupyter Book/Stat 88/textbook/_build/jupyter_execute/_site/content/notebooks/Chapter_06/01_Variance_and_Standard_Deviation_13_0.png"
      }
     },
     "output_type": "display_data"
    }
   ],
   "source": [
    "# NO CODE \n",
    "\n",
    "Plot(dist_X, show_ev=True, show_sd=True)\n",
    "plt.title('Distribution of $X$')\n",
    "plt.xlabel('$x$');"
   ]
  },
  {
   "cell_type": "markdown",
   "metadata": {},
   "source": [
    "### Example 2: Larger Spread ###\n",
    "\n",
    "The random variable $Y$ with the distribution given below has the same expectation as $X$ above. But its distribution looks quite different from that of $X$.\n",
    "\n",
    "|$~~~~~~~~~~ y$| $3$ | $4$ | $5$ |\n",
    "|-------------:|:---:|:---:|:---:|\n",
    "|$P(Y = y)$ | $0.55$ | $0.1$ | $0.35$ |\n",
    "\n",
    "$$\n",
    "E(Y) ~ = ~ 3(0.55) + 4(0.1) + 5(0.35) ~ = ~ 3.8\n",
    "$$\n"
   ]
  },
  {
   "cell_type": "code",
   "execution_count": 7,
   "metadata": {
    "tags": [
     "remove_input"
    ]
   },
   "outputs": [
    {
     "data": {
      "image/png": "[encoded data removed]",
      "text/plain": [
       "<Figure size 432x288 with 1 Axes>"
      ]
     },
     "metadata": {
      "filenames": {
       "image/png": "/mnt/c/Users/septi/Desktop/Berkeley/Summer 2022/Jupyter Book/Stat 88/textbook/_build/jupyter_execute/_site/content/notebooks/Chapter_06/01_Variance_and_Standard_Deviation_15_0.png"
      }
     },
     "output_type": "display_data"
    }
   ],
   "source": [
    "# NO CODE\n",
    "\n",
    "y = make_array(3, 4, 5)\n",
    "probs_Y = make_array(0.55, 0.1, 0.35)\n",
    "dist_Y = Table().values(y).probabilities(probs_Y)\n",
    "Plot(dist_Y, show_ev=True)\n",
    "plt.title('Distribution of $Y$')\n",
    "plt.xlabel('$y$');"
   ]
  },
  {
   "cell_type": "markdown",
   "metadata": {},
   "source": [
    "The probabilities in the distribution of $Y$ are concentrated on the two outer values (3 and 5) whereas in the distribution of $X$ the most likely value is 4. Because both distributions have the same mean of 3.8, the deviations of $Y$ are more likely to be large than those of $X$. So $Y$ has the greater $SD$. \n",
    "\n",
    "You can check this numerically:"
   ]
  },
  {
   "cell_type": "code",
   "execution_count": 8,
   "metadata": {
    "tags": [
     "remove_input"
    ]
   },
   "outputs": [],
   "source": [
    "# NO CODE\n",
    "\n",
    "variance_table_Y = Table().with_columns(\n",
    "    'y', dist_Y.column(0),\n",
    "    '(y - E(Y))**2', (dist_Y.column(0)-3.8)**2,\n",
    "    'P(Y = y)', dist_Y.column(1)\n",
    ")"
   ]
  },
  {
   "cell_type": "code",
   "execution_count": 9,
   "metadata": {},
   "outputs": [
    {
     "data": {
      "text/html": [
       "<table border=\"1\" class=\"dataframe\">\n",
       "    <thead>\n",
       "        <tr>\n",
       "            <th>y</th> <th>(y - E(Y))**2</th> <th>P(Y = y)</th>\n",
       "        </tr>\n",
       "    </thead>\n",
       "    <tbody>\n",
       "        <tr>\n",
       "            <td>3   </td> <td>0.64         </td> <td>0.55    </td>\n",
       "        </tr>\n",
       "        <tr>\n",
       "            <td>4   </td> <td>0.04         </td> <td>0.1     </td>\n",
       "        </tr>\n",
       "        <tr>\n",
       "            <td>5   </td> <td>1.44         </td> <td>0.35    </td>\n",
       "        </tr>\n",
       "    </tbody>\n",
       "</table>"
      ],
      "text/plain": [
       "y    | (y - E(Y))**2 | P(Y = y)\n",
       "3    | 0.64          | 0.55\n",
       "4    | 0.04          | 0.1\n",
       "5    | 1.44          | 0.35"
      ]
     },
     "execution_count": 9,
     "metadata": {},
     "output_type": "execute_result"
    }
   ],
   "source": [
    "variance_table_Y"
   ]
  },
  {
   "cell_type": "code",
   "execution_count": 10,
   "metadata": {},
   "outputs": [
    {
     "data": {
      "text/plain": [
       "0.92736184954957035"
      ]
     },
     "execution_count": 10,
     "metadata": {},
     "output_type": "execute_result"
    }
   ],
   "source": [
    "var_Y = sum(variance_table_Y.column(1) * variance_table_Y.column(2))\n",
    "sd_Y = var_Y ** 0.5\n",
    "sd_Y"
   ]
  },
  {
   "cell_type": "markdown",
   "metadata": {},
   "source": [
    "The figure below shows the probability histogram of $Y$ along with the three points $E(Y)$ and $E(Y) \\pm SD(Y)$. Compare this with the corresponding figure for $X$ above. You will see that the two expectations are the same but $Y$ has the bigger SD."
   ]
  },
  {
   "cell_type": "code",
   "execution_count": 11,
   "metadata": {
    "tags": [
     "remove_input"
    ]
   },
   "outputs": [
    {
     "data": {
      "image/png": "[encoded data removed]",
      "text/plain": [
       "<Figure size 432x288 with 1 Axes>"
      ]
     },
     "metadata": {
      "filenames": {
       "image/png": "/mnt/c/Users/septi/Desktop/Berkeley/Summer 2022/Jupyter Book/Stat 88/textbook/_build/jupyter_execute/_site/content/notebooks/Chapter_06/01_Variance_and_Standard_Deviation_21_0.png"
      }
     },
     "output_type": "display_data"
    }
   ],
   "source": [
    "# NO CODE\n",
    "\n",
    "Plot(dist_Y, show_ev=True, show_sd=True)\n",
    "plt.title('Distribution of $Y$')\n",
    "plt.xlabel('$y$');"
   ]
  }
 ],
 "metadata": {
  "celltoolbar": "Edit Metadata",
  "kernelspec": {
   "display_name": "Python 3",
   "language": "python",
   "name": "python3"
  },
  "language_info": {
   "codemirror_mode": {
    "name": "ipython",
    "version": 3
   },
   "file_extension": ".py",
   "mimetype": "text/x-python",
   "name": "python",
   "nbconvert_exporter": "python",
   "pygments_lexer": "ipython3",
   "version": "3.8.10"
  }
 },
 "nbformat": 4,
 "nbformat_minor": 2
}