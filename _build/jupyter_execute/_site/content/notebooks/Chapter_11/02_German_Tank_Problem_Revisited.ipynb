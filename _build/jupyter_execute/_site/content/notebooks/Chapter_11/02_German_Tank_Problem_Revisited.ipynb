{
 "cells": [
  {
   "cell_type": "code",
   "execution_count": 1,
   "metadata": {
    "tags": [
     "remove_input"
    ]
   },
   "outputs": [],
   "source": [
    "# NO CODE \n",
    "\n",
    "from datascience import *\n",
    "from prob140 import *\n",
    "%matplotlib inline\n",
    "import matplotlib.pyplot as plt\n",
    "plt.style.use('fivethirtyeight')\n",
    "import numpy as np"
   ]
  },
  {
   "cell_type": "code",
   "execution_count": 2,
   "metadata": {
    "tags": [
     "remove_input"
    ]
   },
   "outputs": [],
   "source": [
    "# NO CODE\n",
    "\n",
    "def simulate_T1_T2(N, n):\n",
    "    tanks = np.arange(1, N+1)\n",
    "    sample = np.random.choice(tanks, size=n, replace=False)\n",
    "    t1 = 2*np.mean(sample)-1\n",
    "    t2 = max(sample)\n",
    "    return [t1, t2]\n",
    "\n",
    "def compare_T1_T2(N, n, repetitions):\n",
    "    tbl = Table(['2*Mean - 1', 'Max'])\n",
    "    for i in np.arange(repetitions):\n",
    "        tbl.append(simulate_T1_T2(N, n))\n",
    "    \n",
    "    tbl.hist(bins=np.arange(N/2, 3*N/2))\n",
    "    plt.title('$N =$'+str(N)+', $n =$'+str(n)+' ('+str(repetitions)+' repetitions)');\n",
    "\n",
    "def simulate_T2_T3(N, n):\n",
    "    tanks = np.arange(1, N+1)\n",
    "    sample = np.random.choice(tanks, size=n, replace=False)\n",
    "    t2 = max(sample)\n",
    "    t3 = t2*(n+1)/n - 1\n",
    "    return [t3, t2]\n",
    "\n",
    "def compare_T2_T3(N, n, repetitions):\n",
    "    tbl = Table(['Augmented Max', 'Max'])\n",
    "    for i in np.arange(repetitions):\n",
    "        tbl.append(simulate_T2_T3(N, n))\n",
    "    \n",
    "    tbl.hist(bins=np.arange(N/2, 3*N/2))\n",
    "    aug_maxes = tbl.column(0)\n",
    "    maxes = tbl.column(1)\n",
    "    print('Average of Augmented Maxes:', np.mean(aug_maxes))\n",
    "    print('SD of of Augmented Maxes:', np.std(aug_maxes))\n",
    "    print('Average of Maxes:', np.mean(maxes))\n",
    "    print('SD of Maxes:', np.std(maxes))\n",
    "    plt.title('$N =$'+str(N)+', $n =$'+str(n)+' ('+str(repetitions)+' repetitions)');   "
   ]
  },
  {
   "cell_type": "markdown",
   "metadata": {},
   "source": [
    "## The German Tank Problem, Revisited ##"
   ]
  },
  {
   "cell_type": "markdown",
   "metadata": {},
   "source": [
    "Earlier in the course we examined the [German tank problem](http://stat88.org/textbook/notebooks/Chapter_05/04_Unbiased_Estimators.html#World-War-II-Tanks) in which statisticians helped the Allies estimate the number of tanks the Germans were manufacturing in World War II. \n",
    "\n",
    "In our discussion we had assumed a simpler model than the one the Allies had used. We had started by assuming, as the Allies had, that the tanks were numbered sequentially from 1 through $N$. The goal was to estimate $N$ from the serial numbers on the tanks that were observed. Our model had said that these numbers were like draws *with* replacement from $1, 2, 3, \\ldots, N$. But that's not a great model for serial numbers observed on tanks that have been captured or destroyed.\n",
    "\n",
    "So we will now assume, as the Allies did, that the serial numbers of the observed tanks are random variables $X_1, X_2, \\ldots, X_n$ drawn uniformly at random *without* replacement from $\\{1, 2, 3, \\ldots, N\\}$. That is, we have a simple random sample of size $n$ from the population $\\{1, 2, 3, \\ldots, N\\}$, and we have to estimate $N$.\n",
    "\n",
    "By the symmetry of simple random sampling, each $X_i$ has the same distribution as the others. The distribution is uniform on $\\{1, 2, 3, \\ldots, N\\}$, so for each $i$ we have\n",
    "\n",
    "$$\n",
    "E(X_i) ~ = ~ \\frac{N+1}{2} \n",
    "$$\n",
    "\n",
    "Hence if $\\bar{X}$ is the sample average, then\n",
    "\n",
    "$$\n",
    "E(\\bar{X}) ~ = ~ \\frac{N+1}{2}\n",
    "$$\n",
    "\n",
    "This is a linear function of the parameter $N$. So by inverting the function (that is, isolating $N$), we can construct an unbiased estimator of $N$. We have\n",
    "\n",
    "$$\n",
    "N ~ = ~ 2E(\\bar{X}) - 1\n",
    "$$\n",
    "\n",
    "This is an equality of constants, but we'll never know $E(\\bar{X})$ because that quantity involves $N$  which is exactly what we are trying to estimate. However, by linearity of expectation, the random variable\n",
    "\n",
    "$$\n",
    "T_1 ~ = ~ 2\\bar{X} - 1\n",
    "$$\n",
    "\n",
    "has expectation $N$ and hence is an unbiased estimator of $N$. It can be calculated based on the sample $X_1, X_2, \\ldots, X_n$. \n",
    "\n",
    "We have called this estimator $T_1$ because it is the first of several competing estimators of $N$.\n",
    "\n",
    "Another natural estimator of $N$ is $T_2 = \\max\\{X_1, X_2, \\ldots, X_n\\}$, the maximum of the observed numbers. This estimator is clearly biased. It is always less than or equal to $N$. So on average, it will underestimate $N$.\n",
    "\n",
    "But not by much! The figure below shows the empirical histograms of $T_1$ and $T_2$ based on 10,000 repetitions of drawing a simple random sample of size 30 from the integers $1$ through $300$ and computing $T_1$ and $T_2$ for each sample. You can see that the distribution of the sample maximum $T_2$ puts a lot of mass just to the left of the population maximum $300$."
   ]
  },
  {
   "cell_type": "code",
   "execution_count": 3,
   "metadata": {
    "tags": [
     "remove_input"
    ]
   },
   "outputs": [
    {
     "data": {
      "image/png": "[encoded data removed]",
      "text/plain": [
       "<Figure size 432x288 with 1 Axes>"
      ]
     },
     "metadata": {
      "filenames": {
       "image/png": "/mnt/c/Users/septi/Desktop/Berkeley/Summer 2022/Jupyter Book/Stat 88/textbook/_build/jupyter_execute/_site/content/notebooks/Chapter_11/02_German_Tank_Problem_Revisited_4_0.png"
      }
     },
     "output_type": "display_data"
    }
   ],
   "source": [
    "# NO CODE\n",
    "\n",
    "compare_T1_T2(300, 30, 10000)"
   ]
  },
  {
   "cell_type": "markdown",
   "metadata": {},
   "source": [
    "The blue histogram shows the empirical distribution of $T_1 = 2\\bar{X} - 1$. It is roughly normal because the distribution of $\\bar{X}$ is roughly normal: when sampling $30$ elements out of a population of $300$, sampling with and without replacement aren't very different, so the Central Limit Theorem for i.i.d. sample means implies approximate normality. As the number of captured or destroyed tanks was small relative to the number produced, it is reasonable to assume that $n$ is quite a bit smaller than $N$.\n",
    "\n",
    "The blue histogram is centered at $N = 300$, the value of $N$ that we chose for the simulation. That is because $T_1$ is an unbiased estimator of $N$.\n",
    "\n",
    "The gold histogram displays the distribution of $T_2 = \\max\\{1, 2, 3, \\ldots, N\\}$. It is entirely to the left of $N = 300$, confirming our assertion that $T_2$ underestimates $N$. However, the gold histogram is quite a bit narrower than the blue and puts most of its probability very close to the parameter $N$. This is a situation in which we might prefer to use the somewhat biased estimator $T_2$ over the unbiased but widely variable estimator $T_1$."
   ]
  },
  {
   "cell_type": "markdown",
   "metadata": {},
   "source": [
    "### The Bias of the Sample Maximum ###\n",
    "To calculate the bias of $M$, it helps to imagine a row of $N$ spots for the serial numbers $1$ through $N$, with marks at the spots corresponding to the observed serial numbers. The visualization below shows an outcome in the case $N= 20$ and $n = 3$.\n",
    "\n",
    "![gaps](../../images/all_gaps.png)\n",
    "\n",
    "- There are $N = 20$ spots in all. \n",
    "- From these, we take a simple random sample of size $n = 3$. Those are the gold spots.\n",
    "- The remaining $N - n = 17$ spots are colored blue.\n",
    "\n",
    "The $n = 3$ sampled spots create $n+1 = 4$ blue \"gaps\" between sampled values: one before the leftmost gold spot, two between successive gold spots, and one after the rightmost gold spot that is at position $M$.\n",
    "\n",
    "The key observation is that because of the symmetry of simple random sampling, the lengths of all four gaps have the same distribution. Therefore all four gaps have the same expected length, which we can find by counting blue and gold spots as follows:\n",
    "\n",
    "- The gaps are made up of $N - n = 17$ blue spots.\n",
    "- Since each of the four gaps has the same expected length, the expected length of a single gap is $\\frac{17}{4}$.\n",
    "\n",
    "In general, when the data are a simple random sample of $n$ elements out of $1, 2, 3, \\ldots, N$, then \n",
    "\n",
    "$$\n",
    "\\text{expected length of gap} ~ = ~ \\frac{N-n}{n+1}\n",
    "$$\n",
    "\n",
    "The length of the very last gap (the one after $M$) is the random amount by which $M$ underestimates $N$. Let's call the length of that gap $G_{n+1}$ since it is the $(n+1)$th gap starting from the left. \n",
    "\n",
    "Then $N = M + G_{n+1}$. Take expectations on both sides and remember that $N$ is a constant:\n",
    "\n",
    "$$\n",
    "N ~ = ~ E(M) + E(G_{n+1}) ~ = ~ E(M) + \\frac{N-n}{n+1}\n",
    "$$\n",
    "\n",
    "So the bias of $M$ is\n",
    "\n",
    "$$\n",
    "E(M) - N ~ = ~ \\frac{-(N-n)}{n+1}\n",
    "$$\n",
    "\n",
    "The bias is negative, consistent with our observation that the sample maximum tends to underestimate $N$."
   ]
  },
  {
   "cell_type": "markdown",
   "metadata": {},
   "source": [
    "### A Better Estimator ###\n",
    "\n",
    "The fact that the bias of $M$ is linear in the parameter $N$ allows us to construct a new unbiased estimator of $N$.\n",
    "\n",
    "You can of course find $E(M)$ by using the formula for the bias, but we will find $E(M)$ by counting spots from the left, up to and including the gold spot at position $M$. These spots consist of:\n",
    "\n",
    "- $n$ blue gaps of expected length $\\frac{N-n}{n+1}$ each, and\n",
    "- $n$ gold spots\n",
    "\n",
    "Hence\n",
    "\n",
    "$$\n",
    "E(M) ~ = ~ n\\big{(}\\frac{N-n}{n+1}\\big{)} + n ~ = ~ \\frac{n}{n+1}(N + 1)\n",
    "$$\n",
    "\n",
    "after a little algebra.\n",
    "\n",
    "This is a linear function of $N$, so you can isolate $N$ to create an unbiased estimator of $N$ just as we did earlier in the section. Isolating $N$ gives\n",
    "\n",
    "$$\n",
    "N ~ = ~ E(M)\\big{(}\\frac{n+1}{n}\\big{)} - 1\n",
    "$$\n",
    "\n",
    "and so it follows that\n",
    "\n",
    "$$\n",
    "T_3 ~ = ~  M\\big{(}\\frac{n+1}{n}\\big{)} - 1\n",
    "$$\n",
    "\n",
    "is an unbiased estimator of $N$. We will call this the \"augmented maximum\" for reasons that will become clear at the end of this section.\n",
    "\n",
    "Since $T_3$ is a linear function of $M$, we have\n",
    "\n",
    "$$\n",
    "SD(T_3) ~ = ~ \\frac{n+1}{n}SD(M) ~ > ~ SD(M)\n",
    "$$\n",
    "\n",
    "While $T_3$ is unbiased and $M$ is biased, $T_3$ is more variable than $M$. \n",
    "\n",
    "To decide which one to use, notice that $SD(T_3) = (1 + \\frac{1}{n})SD(M)$, so the two SDs are almost the same for large $n$. For moderate $n$, the Allied statisticians decided that the reduction in bias was worth the slight increase in variance. \n",
    "\n",
    "The simulation below gives you a sense of the relative sizes of all these quantities. The parameter $N$ and the sample size $n$ are the same as in the simulation shown earlier in the section. "
   ]
  },
  {
   "cell_type": "code",
   "execution_count": 4,
   "metadata": {
    "tags": [
     "remove_input"
    ]
   },
   "outputs": [
    {
     "name": "stdout",
     "output_type": "stream",
     "text": [
      "Average of Augmented Maxes: 300.059806667\n",
      "SD of of Augmented Maxes: 9.1033650339\n",
      "Average of Maxes: 291.3482\n",
      "SD of Maxes: 8.80970809732\n"
     ]
    },
    {
     "data": {
      "image/png": "[encoded data removed]",
      "text/plain": [
       "<Figure size 432x288 with 1 Axes>"
      ]
     },
     "metadata": {
      "filenames": {
       "image/png": "/mnt/c/Users/septi/Desktop/Berkeley/Summer 2022/Jupyter Book/Stat 88/textbook/_build/jupyter_execute/_site/content/notebooks/Chapter_11/02_German_Tank_Problem_Revisited_8_1.png"
      }
     },
     "output_type": "display_data"
    }
   ],
   "source": [
    "# NO CODE\n",
    "\n",
    "compare_T2_T3(300, 30, 5000)"
   ]
  },
  {
   "cell_type": "markdown",
   "metadata": {},
   "source": [
    "### Understanding the Augmented Maximum ###\n",
    "\n",
    "We gave an algebraic derivation of the augmented maximum $T_3$, but there is another good way to understand the formula.\n",
    "\n",
    "The reason the sample maximum $M$ is biased is that in the sample we can see all but the last gap, as in the figure below in the case $n = 3$. The red question mark reminds you that the gap to the right of $M$ is invisible to us.\n",
    "\n",
    "![mystery gap](../../images/mystery_gap.png)\n",
    "\n",
    "If we could see the gap to the right of $M$, we would see $N$. But we can't. So we can try to do the next best thing, which is to augment $M$ by the estimated size of that gap.\n",
    "\n",
    "Since we can see all of the spots and their colors up to and including $M$, we can see $n$ out of the $n+1$ gaps. The lengths of the gaps all have the same distribution by symmetry, so we can estimate the length of a single gap by the average length of all the gaps that we can see.\n",
    "\n",
    "We can see $M$ spots, of which $n$ are the sampled values. So the total length of all $n$ visible gaps is $M-n$. Therefore\n",
    "\n",
    "$$\n",
    "\\text{estimated length of one gap} ~ = ~ \\frac{M-n}{n}\n",
    "$$\n",
    "\n",
    "and hence we can try to improve upon $M$ using the estimator\n",
    "\n",
    "$$\n",
    "M + \\frac{M-n}{n}\n",
    "$$\n",
    "\n",
    "instead. Now\n",
    "\n",
    "$$\n",
    "M + \\frac{M-n}{n} ~ = ~ M\\big{(}\\frac{n+1}{n}\\big{)} - 1 ~ = T_3\n",
    "$$\n",
    "\n",
    "Our new estimator is the same as the unbiased estimator $T_3$ we derived earlier. That is why we have called $T_3$ the augmented maximum: it is the sample maximum plus one estimated gap.\n",
    "\n",
    "It is possible for the augmented maximum to overestimate $N$. For example, if the observed value of $M$ happens to be $N$, in the calculation of $T_3$ we will have added a gap that we didn't need to add and therefore we will overestimate $N$. \n",
    "\n",
    "As before, it is possible for the augmented maximum to underestimate $N$, for example if all the sampled serial numbers are small.\n",
    "\n",
    "What we have shown is that on average, the augmented maximum gets the answer right, and is only slightly more variable than the maximum."
   ]
  }
 ],
 "metadata": {
  "celltoolbar": "Edit Metadata",
  "kernelspec": {
   "display_name": "Python 3",
   "language": "python",
   "name": "python3"
  },
  "language_info": {
   "codemirror_mode": {
    "name": "ipython",
    "version": 3
   },
   "file_extension": ".py",
   "mimetype": "text/x-python",
   "name": "python",
   "nbconvert_exporter": "python",
   "pygments_lexer": "ipython3",
   "version": "3.8.10"
  }
 },
 "nbformat": 4,
 "nbformat_minor": 2
}