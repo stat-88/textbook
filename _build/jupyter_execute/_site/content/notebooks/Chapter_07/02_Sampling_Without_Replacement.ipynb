{
 "cells": [
  {
   "cell_type": "code",
   "execution_count": 1,
   "metadata": {
    "tags": [
     "remove_input"
    ]
   },
   "outputs": [],
   "source": [
    "# NO CODE\n",
    "\n",
    "from datascience import *\n",
    "from prob140 import *\n",
    "%matplotlib inline\n",
    "import matplotlib.pyplot as plt\n",
    "plt.style.use('fivethirtyeight')\n",
    "import numpy as np\n",
    "from scipy import stats"
   ]
  },
  {
   "cell_type": "markdown",
   "metadata": {},
   "source": [
    "## Sampling Without Replacement ##"
   ]
  },
  {
   "cell_type": "markdown",
   "metadata": {},
   "source": [
    "The draws in a simple random sample aren't independent of each other. This makes calculating variances a little less straightforward than in the case of draws with replacement.\n",
    "\n",
    "In this section we will find the variance of a random variable that has a hypergeometric distribution. Then we will use the variance to examine the accuracy of polls.\n",
    "\n",
    "As a preliminary, let's do some calculations involving indicator random variables."
   ]
  },
  {
   "cell_type": "markdown",
   "metadata": {},
   "source": [
    "### Squares and Products of Indicators ##\n",
    "\n",
    "Let $I_A$ be the indicator of the event $A$. Then the distribution of $I_A$ is given by\n",
    "\n",
    "|value|$0$|$1$|\n",
    "|----:|:---:|:---:|\n",
    "|**probability**|$1-P(A)$|$P(A)$|\n",
    "\n",
    "We know that $E(I_A) = P(A)$.\n",
    "\n",
    "Now let's look at the random variable $I_A^2$. As we have seen before, this is a function of $I_A$ that is in fact equal to $I_A$: when $I_A = 0$ then $I_A^2 = 0$ and when $I_A = 1$ then $I_A^2 = 1$.\n",
    "\n",
    "So $I_A^2 = I_A$ and hence $E(I_A^2) = P(A)$.\n",
    "\n",
    "Now let $I_B$ be the indicator of the event $B$, and consider the product $I_AI_B$.\n",
    "\n",
    "This product is itself an indicator. It has the value 1 when both A and B occur, and it is 0 otherwise. In other words, it is the indcator of the event $AB$.\n",
    "\n",
    "Therefore $E(I_AI_B) ~ = ~ P(AB)$.\n",
    "\n",
    "The expectation of the product of two indicators is the probability that both the events being indicated occur."
   ]
  },
  {
   "cell_type": "markdown",
   "metadata": {},
   "source": [
    "### SD of the Hypergeometric ###\n",
    "\n",
    "Let $X$ have the hypergeometric $(N, G, n)$ distribution. That is, let $X$ be the number of good elements in a simple random sample of size $n$ drawn from a population of $N$ elements of which $G$ are good.\n",
    "\n",
    "As we have seen before, \n",
    "\n",
    "$$\n",
    "X ~ = ~ I_1 + I_2 + \\cdots + I_n\n",
    "$$\n",
    "\n",
    "where $I_j$ is the indicator of the event that the $j$th draw is good.\n",
    "\n",
    "We know that $I_1, I_2, \\ldots, I_n$ are identically distributed, and that each has chance $G/N$ of being 1. That was how we showed that\n",
    "\n",
    "$$\n",
    "E(X) ~ = ~ n\\frac{G}{N}\n",
    "$$\n",
    "\n",
    "But we can't just add the variances of the indicators to get the variance of $X$. Unlike the binomial case, these indicators aren't independent.\n",
    "\n",
    "So let's get back to basics and try to use\n",
    "\n",
    "$$\n",
    "Var(X) ~ = ~ E(X^2) - (E(X)^2) ~ = ~ E(X^2) - \\big{(} n\\frac{G}{N} \\big{)}^2\n",
    "$$\n",
    "\n",
    "To find $E(X^2)$ note that\n",
    "\n",
    "$$\n",
    "X^2 ~ = ~ (I_1 + I_2 + \\cdots + I_n)^2 ~ = ~ \\sum_{j=1}^n I_j^2 + \\mathop{\\sum_{j=1}^n \\sum_{k=1}^n}_{j \\ne k} I_jI_k\n",
    "$$\n",
    "\n",
    "So\n",
    "\n",
    "$$\n",
    "\\begin{align*}\n",
    "E(X^2) ~ &= ~ E(\\sum_{j=1}^n I_j^2) + E(\\mathop{\\sum_{j=1}^n \\sum_{k=1}^n}_{j \\ne k} I_jI_k)\\\\\n",
    "&=~ \\sum_{j=1}^n E(I_j^2) + \\mathop{\\sum_{j=1}^n \\sum_{k=1}^n}_{j \\ne k} E(I_jI_k)\\\\\n",
    "&=~ nE(I_1^2) + n(n-1)E(I_1I_2)\n",
    "\\end{align*}\n",
    "$$\n",
    "\n",
    "by the symmetry of simple random sampling.\n",
    "\n",
    "Apply our results about indicators to see that\n",
    "\n",
    "$$\n",
    "E(X^2) ~ = ~ n \\frac{G}{N} + n(n-1)\\frac{G}{N}\\cdot\\frac{G-1}{N-1}\n",
    "$$\n",
    "\n",
    "and therefore\n",
    "\n",
    "$$\n",
    "Var(X) ~ = ~ n \\frac{G}{N} + n(n-1)\\frac{G}{N}\\cdot\\frac{G-1}{N-1} - \\big{(} n\\frac{G}{N} \\big{)}^2\n",
    "$$\n",
    "\n",
    "That looks awful but it's actually not so bad. Pull out a common factor:\n",
    "\n",
    "$$\n",
    "Var(X) ~ = ~ n\\frac{G}{N}\\big{(} 1 + (n-1)\\frac{G-1}{N-1} - n\\frac{G}{N}\\big{)}\n",
    "$$\n",
    "\n",
    "After a little manipulation this becomes\n",
    "\n",
    "$$\n",
    "Var(X) ~ = ~ n\\frac{G}{N} \\cdot \\frac{N-G}{N}\\cdot\\frac{N-n}{N-1}\n",
    "$$\n",
    "\n",
    "The initial part of this formula is the binomial variance $npq$. To see this more clearly, write $B = N-G$ for the number of bad elements. Then\n",
    "\n",
    "$$\n",
    "Var(X) ~ = ~ \\big{(} n\\frac{G}{N} \\cdot \\frac{B}{N}\\big{)}\\frac{N-n}{N-1} \n",
    "$$\n",
    "\n",
    "and \n",
    "\n",
    "$$\n",
    "SD(X) ~ = ~ \\sqrt{n\\frac{G}{N} \\cdot \\frac{B}{N}}\\sqrt{\\frac{N-n}{N-1}} ~ = ~ \\sqrt{npq} \\sqrt{\\frac{N-n}{N-1}}\n",
    "$$\n",
    "\n",
    "for $p = \\frac{G}{N}$.\n",
    "\n",
    "For example, the number of hearts in a 5-card poker hand is expected to be \n",
    "\n",
    "$$\n",
    "5 \\times \\frac{13}{52} ~ \\approx ~ 1.25\n",
    "$$\n",
    "\n",
    "with an SD of\n",
    "\n",
    "$$\n",
    "\\sqrt{5 \\times \\frac{13}{52} \\times \\frac{39}{52}}\\sqrt{\\frac{52 - 5}{52 - 1}} ~ \\approx ~ 0.93\n",
    "$$"
   ]
  },
  {
   "cell_type": "markdown",
   "metadata": {},
   "source": [
    "### The Size of the FPC ###\n",
    "\n",
    "We have shown that the SD of the number of good elements when drawing *without* replacement is the same as though we had been drawing *with* replacement, times the *finite population correction* or fpc given by\n",
    "\n",
    "$$\n",
    "\\text{fpc} ~ = ~ \\sqrt{\\frac{N-n}{N-1}}\n",
    "$$\n",
    "\n",
    "Since the sample size is typically greater than 1, the fpc is typically less than 1. \n",
    "\n",
    "This implies that the hypergeoemtric SD is *less* than the corresponding binomial SD if the draws had been made with replacement.\n",
    "\n",
    "The figure below shows the histogram of the hypergeometric $(52, 26, 5)$ distribution (the distribution of the number of red cards in a poker hand) and the binomial $(5, 26/52)$ distribution."
   ]
  },
  {
   "cell_type": "code",
   "execution_count": 2,
   "metadata": {
    "tags": [
     "remove_input"
    ]
   },
   "outputs": [
    {
     "data": {
      "image/png": "[encoded data removed]",
      "text/plain": [
       "<Figure size 432x288 with 1 Axes>"
      ]
     },
     "metadata": {
      "filenames": {
       "image/png": "/mnt/c/Users/septi/Desktop/Berkeley/Summer 2022/Jupyter Book/Stat 88/textbook/_build/jupyter_execute/_site/content/notebooks/Chapter_07/02_Sampling_Without_Replacement_6_0.png"
      }
     },
     "output_type": "display_data"
    }
   ],
   "source": [
    "# NO CODE\n",
    "\n",
    "G = 26\n",
    "N = 52\n",
    "n = 5\n",
    "k = np.arange(n+1)\n",
    "h = stats.hypergeom.pmf(k, N, G, n)\n",
    "b = stats.binom.pmf(k, n, G/N)\n",
    "dist_h = Table().values(k).probabilities(h)\n",
    "dist_b = Table().values(k).probabilities(b)\n",
    "Plots('Hypergeometric (52, 26, 5)', dist_h, 'Binomial (5, 26/52)', dist_b)"
   ]
  },
  {
   "cell_type": "markdown",
   "metadata": {},
   "source": [
    "Both histograms are centered at 2.5. You can see that the hypergeometric histogram is a bit taller and hence a bit less spread out than the binomial.\n",
    "\n",
    "But not by much! Let's see why.\n",
    "\n",
    "As we have observed before, sampling with and without replacement are essentially the same when the sample size is small relative to the population size. We now have another confirmation of this.\n",
    "\n",
    "When the sample size is small relative to the population, the finite population correction is close to 1. That is because \n",
    "\n",
    "$$\n",
    "\\frac{N-n}{N-1} ~ = ~ 1 - \\frac{n-1}{N-1} ~ \\approx ~ 1 - \\frac{n}{N} ~ \\approx ~ 1\n",
    "$$\n",
    "\n",
    "when $\\frac{n}{N}$ is small.\n",
    "\n",
    "The SD of the number of good elements in the sample is the same for sampling with and without replacement, apart from the fpc. When the fpc is close to 1, the two SDs are essentially equal.\n",
    "\n",
    "Data scientists often have to work with relatively small samples drawn from large populations. We see once more that in such situations they can treat the draws as if they had been made with replacement. "
   ]
  },
  {
   "cell_type": "markdown",
   "metadata": {},
   "source": [
    "### The Accuracy of Simple Random Samples ###\n",
    "When politicans don't like the result of a poll, they sometimes say they don't trust polls that are based on tiny percents of the population. Let's see what we think of that.\n",
    "\n",
    "Suppose a poll is based on a simple random sample drawn from a huge population of voters of whom a proportion $p$ favor a politician. Then the SD of the number of voters who favor the politician is\n",
    "\n",
    "$$\n",
    "\\sqrt{npq}\\sqrt{\\frac{N-n}{N-1}} ~ \\approx ~ \\sqrt{npq}\n",
    "$$\n",
    "\n",
    "because the fpc is close to 1.\n",
    "\n",
    "Essentially, the SD depends on $p$ and on the *sample* size $n$, not on the population size $N$. The population size appears only in the fpc which is close to 1. In effect, the population size is so large in comparison to the sample size that it might as well be infinite.\n",
    "\n",
    "Thus if all other things (such as $p$) are equal, a simple random sample of size 100 taken from Berkeley (population about 120,000) is just about as accurate as a simple random sample of size 100 taken from San Francisco (population about 880,000).\n",
    "\n",
    "As for the doubting politicians, we have to remind them that when the population is large, it's the sample size that matters, not the population size. A a 0.1% sample of one million voters is a small percent of the population but it consists of $n = 1000$ voters. Simple random samples that big are pretty accurate, as we will see in the next section."
   ]
  },
  {
   "cell_type": "code",
   "execution_count": null,
   "metadata": {},
   "outputs": [],
   "source": []
  }
 ],
 "metadata": {
  "celltoolbar": "Edit Metadata",
  "kernelspec": {
   "display_name": "Python 3",
   "language": "python",
   "name": "python3"
  },
  "language_info": {
   "codemirror_mode": {
    "name": "ipython",
    "version": 3
   },
   "file_extension": ".py",
   "mimetype": "text/x-python",
   "name": "python",
   "nbconvert_exporter": "python",
   "pygments_lexer": "ipython3",
   "version": "3.8.10"
  }
 },
 "nbformat": 4,
 "nbformat_minor": 2
}