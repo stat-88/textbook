{
 "cells": [
  {
   "cell_type": "code",
   "execution_count": 1,
   "metadata": {
    "tags": [
     "remove_input"
    ]
   },
   "outputs": [],
   "source": [
    "# NO CODE\n",
    "\n",
    "from datascience import *\n",
    "from prob140 import *\n",
    "%matplotlib inline\n",
    "import matplotlib.pyplot as plt\n",
    "plt.style.use('fivethirtyeight')\n",
    "import numpy as np\n",
    "from scipy import stats\n",
    "\n",
    "import warnings\n",
    "warnings.filterwarnings('ignore')"
   ]
  },
  {
   "cell_type": "markdown",
   "metadata": {},
   "source": [
    "## Confidence Intervals: Method ##"
   ]
  },
  {
   "cell_type": "markdown",
   "metadata": {},
   "source": [
    "A *confidence interval* is an interval of estimates of a fixed but unknown parameter, based on data in a random sample. In this section we will construct confidence intervals for an unknown population mean, based on a large i.i.d. sample drawn from the population. \n",
    "\n",
    "Proportions are means of zeros and ones. So, as a special case of our method, we will also be able to construct confidence intervals for unknown population proportions.\n",
    "\n",
    "First let's recall from Data 8 why we use intervals to estimate an unknown number, instead of just providing one number as the estimate. Suppose that you are trying to estimate an unknown parameter $\\mu$, and suppose that based on your random sample you think $\\mu$ is 4. Why not just say that your estimate is 4, and be done with it?\n",
    "\n",
    "It is because your estimate 4 is based on observations in a random sample, and you know that *the sample could have come out differently*. If the sample had come out differently, you might have come up with an estimate that was different from 4. Just saying that the estimate is 4 doesn't take that into account.\n",
    "\n",
    "You have to give yourself some wiggle room to allow for the fact that different random samples would have led to different estimates of the parameter. So you should provide an interval of estimates instead of just one number."
   ]
  },
  {
   "cell_type": "markdown",
   "metadata": {},
   "source": [
    "### Confidence Interval for a Population Mean ###\n",
    "\n",
    "Let $X_1, X_2, \\ldots, X_n$ be i.i.d. with mean $\\mu$. We will call $\\mu$ the \"underlying mean\" or the \"population mean\". \n",
    "\n",
    "Data scientists often don't know the value of $\\mu$ and would like to estimate it. For example, if each $X_i$ is the annual income of a randomly picked U.S. household then $\\mu$ is the average annual income in all U.S. households, which the data scientists might not know. It could also be that the model is more abstract and $\\mu$ is an abstract quantity whose exact value is unknowable. For example, if each $X_i$ is a measurement of length and the object being measured has length $\\mu$, we will never be able to know the value of $\\mu$ with infinite precision. All measuring processes, no matter how sophisticated, have some error.\n",
    "\n",
    "We do know, however, that the sample mean $\\bar{X} = \\frac{1}{n} \\sum_{i=1}^n X_i$ is an unbiased estimate of $\\mu$. We also know that $SD(\\bar{X}) = \\frac{\\sigma}{\\sqrt{n}}$ where $\\sigma = SD(X_i)$ for every $i$.\n",
    "\n",
    "If $n$ is large, the Central Limit Theorem tells us that the distribution of $\\bar{X}$ is roughly normal. Therefore, for large $n$,\n",
    "\n",
    "$$\n",
    "P(\\mu - 2\\frac{\\sigma}{\\sqrt{n}} < \\bar{X} < \\mu + 2\\frac{\\sigma}{\\sqrt{n}}) ~ \\approx ~ 0.95\n",
    "$$"
   ]
  },
  {
   "cell_type": "code",
   "execution_count": 18,
   "metadata": {
    "tags": [
     "remove_input"
    ]
   },
   "outputs": [
    {
     "data": {
      "image/png": "[encoded data removed]",
      "text/plain": [
       "<Figure size 432x288 with 1 Axes>"
      ]
     },
     "metadata": {},
     "output_type": "display_data"
    }
   ],
   "source": [
    "# NO CODE\n",
    "\n",
    "x = np.arange(-4, 4.01, 0.01)\n",
    "phi = stats.norm.pdf(x)\n",
    "plt.plot(x, phi, color='darkblue', lw=2)\n",
    "t = np.arange(-2, 2.01, 0.01)\n",
    "phi2 = stats.norm.pdf(t)\n",
    "plt.fill_between(t, phi2, color='gold')\n",
    "plt.xticks([])\n",
    "plt.yticks([])\n",
    "plt.plot([-4, 4], [0, 0], color='k', lw=1)\n",
    "plt.xlabel('Sample Mean', fontsize=12)\n",
    "plt.text(-0.05, -0.02, '$\\mu$', fontsize=10)\n",
    "plt.text(1.7, -0.02, '$\\mu+2\\sigma/\\sqrt{n}$', fontsize=10)\n",
    "plt.text(-2.6, -0.02, '$\\mu-2\\sigma/\\sqrt{n}$', fontsize=10)\n",
    "plt.title('P(sample mean is in the interval $\\mu \\pm 2\\sigma/\\sqrt{n}$)$\\simeq 0.95$', fontsize=14);"
   ]
  },
  {
   "cell_type": "markdown",
   "metadata": {},
   "source": [
    "We can rewrite this to get an interval of estimates of $\\mu$.\n",
    "\n",
    "$$\n",
    "\\begin{align*}\n",
    "&P\\big{(}\\mu - 2\\frac{\\sigma}{\\sqrt{n}} < \\bar{X} < \\mu + 2\\frac{\\sigma}{\\sqrt{n}}\\big{)} ~ \\approx ~ 0.95 \\\\\n",
    "\\iff ~ &P\\big{(}\\bar{X} - 2\\frac{\\sigma}{\\sqrt{n}} < \\mu < \\bar{X} + 2\\frac{\\sigma}{\\sqrt{n}}\\big{)} ~ \\approx ~ 0.95 \\\\\n",
    "\\iff ~ &P\\big{(}\\mu \\in (\\bar{X} - 2\\frac{\\sigma}{\\sqrt{n}}, ~ \\bar{X} + 2\\frac{\\sigma}{\\sqrt{n}})\\big{)} ~ \\approx ~ 0.95\n",
    "\\end{align*}\n",
    "$$\n",
    "\n",
    "The random interval\n",
    "\n",
    "$$\n",
    "(\\bar{X} - 2\\frac{\\sigma}{\\sqrt{n}}, ~ \\bar{X} + 2\\frac{\\sigma}{\\sqrt{n}})\n",
    "$$\n",
    "\n",
    "is called an *approximate 95% confidence interval for $\\mu$*. It is a random interval because its endpoints depend on the sample mean $\\bar{X}$ which is a random variable whose value varies across samples.\n",
    "\n",
    "Our calculation showed that the chance that this *random interval* contains the *fixed parameter* is about 95%.\n",
    "\n",
    "In practice, we only get one observed instance of the random interval. "
   ]
  },
  {
   "cell_type": "markdown",
   "metadata": {},
   "source": [
    "### Mean Commute Distance ###\n",
    "In a simple random sample of 600 workers taken in a large city, the commute distances of the sampled workers have an average of 19 miles and an SD of 13 miles.\n",
    "\n",
    "We can use these data to construct an approximate 95% confidence interval for the average commute distance of all workers in the city.\n",
    "\n",
    "First note that while a sample of size 600 is large in absolute terms, it is pretty small in comparison to the total number of workers in the city. So we can think of the sample as essentially drawn with replacement and hence i.i.d. \n",
    "\n",
    "Now our method says that our observed approximate 95% confidence interval for the population mean commute distance $\\mu$ is given by\n",
    "\n",
    "$$\n",
    "19 ~ \\pm ~ 2\\frac{\\sigma}{\\sqrt{600}}\n",
    "$$\n",
    "\n",
    "where $\\sigma$ is the SD of the commute distances in the population. We don't know $\\sigma$, but by an argument that we have seen before,\n",
    "\n",
    "$$\n",
    "\\frac{\\sigma}{\\sqrt{600}} ~ \\approx ~ \\frac{\\text{sample SD}}{\\sqrt{600}} ~ = ~ \\frac{13}{\\sqrt{600}} ~ \\approx ~ 0.53\n",
    "$$\n",
    "\n",
    "So an approximate 95% confidence interval for the average commute distance (in miles) of workers in the city is given by\n",
    "\n",
    "$$\n",
    "19 \\pm 2 \\times 0.53 ~ = ~ (17.94, 20.06)\n",
    "$$"
   ]
  },
  {
   "cell_type": "markdown",
   "metadata": {},
   "source": [
    "### Proportion of Undecided Voters ###\n",
    "\n",
    "In a simple random sample of 400 voters in a state, 23% are undecided about which way they will vote.\n",
    "\n",
    "We can use these data to construct an approximate 95% confidence interval for the proportion of undecided voters in the state, following the process we developed above. \n",
    "\n",
    "Remember that the population proportion of undecided voters, which we will denote by $p$, is the mean of the zeros and ones in the population. Here undecided voters are coded as 1 and all others as 0. So also that sample proportion of undecided voters, 0.23, is the observed sample mean.\n",
    "\n",
    "Our observed approximate 95% confidence interval for the proportion of undecided voters in the state is given by\n",
    "\n",
    "$$\n",
    "0.23 \\pm 2 \\frac{\\sigma}{\\sqrt{400}}\n",
    "$$\n",
    "\n",
    "where $\\sigma$ is the SD of the zeros and ones in the population. We know that $\\sigma = \\sqrt{pq}$ where $q = 1-p$, so\n",
    "\n",
    "$$\n",
    "\\frac{\\sigma}{\\sqrt{400}} ~ = ~ \\frac{\\sqrt{pq}}{\\sqrt{400}} ~ \\approx ~ \\frac{\\sqrt{0.23 \\times 0.77}}{\\sqrt{400}} ~ \\approx ~ 0.021\n",
    "$$\n",
    "\n",
    "So an an approximate 95% confidence interval for the proportion of undecided voters in the population is\n",
    "\n",
    "$$\n",
    "0.23 \\pm 2 \\times 0.021 ~ = (0.188, 0.272)\n",
    "$$\n",
    "\n",
    "In other words, our 95% confidence interval for the percent of undecided voters in the population goes from 18.8% to 27.2%."
   ]
  },
  {
   "cell_type": "markdown",
   "metadata": {},
   "source": [
    "### Confidence Level ###\n",
    "\n",
    "The confidence intervals in this section all have the form\n",
    "\n",
    "$$\n",
    "\\text{sample mean} ~ \\pm ~ zSD(\\text{sample mean})\n",
    "$$\n",
    "\n",
    "We took $z = 2$ because the *confidence level* of the each of the intervals was 95% and we know that the area under the standard normal curve between $-2$ and $2$ is about 95%.\n",
    "\n",
    "If we had wanted a different level of confidence, say 99%, we would only have had to change the value of $z$."
   ]
  },
  {
   "cell_type": "code",
   "execution_count": 26,
   "metadata": {
    "tags": [
     "remove_input"
    ]
   },
   "outputs": [
    {
     "data": {
      "image/png": "[encoded data removed]",
      "text/plain": [
       "<Figure size 432x288 with 1 Axes>"
      ]
     },
     "metadata": {},
     "output_type": "display_data"
    }
   ],
   "source": [
    "# NO CODE\n",
    "\n",
    "x = np.arange(-4, 4.01, 0.01)\n",
    "phi = stats.norm.pdf(x)\n",
    "plt.plot(x, phi, color='darkblue', lw=2)\n",
    "z_99 = stats.norm.ppf(.995)\n",
    "t = np.arange(-z_99, z_99+.01, 0.01)\n",
    "phi2 = stats.norm.pdf(t)\n",
    "plt.fill_between(t, phi2, color='gold')\n",
    "plt.xticks([])\n",
    "plt.yticks([])\n",
    "plt.plot([-4, 4], [0, 0], color='k', lw=1)\n",
    "plt.text(-0.05, -0.02, '0', fontsize=10)\n",
    "plt.text(z_99-0.1, -0.02, '$z$', fontsize=10)\n",
    "plt.text(-z_99-0.15, -0.02, '$-z$', fontsize=10)\n",
    "plt.title('Standard Normal Curve: Gold Area 99%', fontsize=14);"
   ]
  },
  {
   "cell_type": "markdown",
   "metadata": {},
   "source": [
    "The area of each tail in the diagram above is $0.005$, so $\\Phi(z) = 0.995$. The value of $z$ is therefore\n",
    "\n",
    "$$\n",
    "z ~ = ~ \\Phi^{-1}(0.995) ~ \\approx ~ 2.576\n",
    "$$\n",
    "\n",
    "You can get the numerical value by using `stats.norm.ppf`:"
   ]
  },
  {
   "cell_type": "code",
   "execution_count": 27,
   "metadata": {},
   "outputs": [
    {
     "data": {
      "text/plain": [
       "2.5758293035489004"
      ]
     },
     "execution_count": 27,
     "metadata": {},
     "output_type": "execute_result"
    }
   ],
   "source": [
    "stats.norm.ppf(0.995)"
   ]
  },
  {
   "cell_type": "markdown",
   "metadata": {},
   "source": [
    "Thus an approximate 99% confidence interval for the mean commute distance of all workers in the city in the first example is\n",
    "\n",
    "$$\n",
    "19 \\pm 2.576 \\times 0.53 ~ = ~ (17.63, 20.36)\n",
    "$$\n",
    "\n",
    "The 99% confidence interval is wider than the 95% confidence interval $(17.94, 20.06)$. \n",
    "\n",
    "We asked for 99% confidence instead of 95%. For this increased confidence based on the same sample as before, we had to give the estimate more wiggle room."
   ]
  },
  {
   "cell_type": "code",
   "execution_count": null,
   "metadata": {},
   "outputs": [],
   "source": []
  }
 ],
 "metadata": {
  "celltoolbar": "Edit Metadata",
  "kernelspec": {
   "display_name": "Python 3",
   "language": "python",
   "name": "python3"
  },
  "language_info": {
   "codemirror_mode": {
    "name": "ipython",
    "version": 3
   },
   "file_extension": ".py",
   "mimetype": "text/x-python",
   "name": "python",
   "nbconvert_exporter": "python",
   "pygments_lexer": "ipython3",
   "version": "3.6.5"
  }
 },
 "nbformat": 4,
 "nbformat_minor": 2
}
