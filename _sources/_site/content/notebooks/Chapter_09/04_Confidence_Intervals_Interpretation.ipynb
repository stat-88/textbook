{
 "cells": [
  {
   "cell_type": "code",
   "execution_count": 1,
   "metadata": {
    "tags": [
     "remove_input"
    ]
   },
   "outputs": [],
   "source": [
    "# NO CODE\n",
    "\n",
    "from datascience import *\n",
    "from prob140 import *\n",
    "%matplotlib inline\n",
    "import matplotlib.pyplot as plt\n",
    "plt.style.use('fivethirtyeight')\n",
    "import numpy as np\n",
    "from scipy import stats\n",
    "\n",
    "import warnings\n",
    "warnings.filterwarnings('ignore')"
   ]
  },
  {
   "cell_type": "markdown",
   "metadata": {},
   "source": [
    "## Confidence Intervals: Interpretation ##"
   ]
  },
  {
   "cell_type": "markdown",
   "metadata": {},
   "source": [
    "Because of the Central Limit Theorem, confidence intervals for population means are easy to compute if the sample is large. This section is a summary of how to interpret the intervals, and how not to."
   ]
  },
  {
   "cell_type": "markdown",
   "metadata": {},
   "source": [
    "### Chance and Confidence ###\n",
    "\n",
    "As before, our sample consists of observations on $X_1, X_2, \\ldots, X_n$ which are i.i.d. with mean $\\mu$ and SD $\\sigma$. Let $\\bar{X}$ be the sample mean. Then for the random interval $\\bar{X} \\pm 2\\frac{\\sigma}{\\sqrt{n}}$,\n",
    "\n",
    "$$\n",
    "P(\\mu \\in \\text{ random interval }) ~ \\approx ~ 0.95\n",
    "$$\n",
    "\n",
    "by the Central Limit Theorem, and the random interval is called a 95% confidence interval for the fixed parameter $\\mu$.\n",
    "\n",
    "In Data 8, the probability statement above was expressed in terms of long run frequencies as follows:\n",
    "\n",
    "If you repeat the sampling process 100 times, and construct a 95% confidence interval each time, then about 95 of the 100 intervals will contain the parameter.\n",
    "\n",
    "Once you have drawn the sample, you get *one observed instance* of the random interval. In the example in the previous section, when we were estimating the average commute distance in a population, the observed value of the random interval came out to be 17.94 miles to 20.06 miles.\n",
    "\n",
    "This numerical interval is a fixed interval. It's not in one place some of the time and somewhere else the rest of the time. It's always in the same fixed place on the number line.\n",
    "\n",
    "The parameter is also at a fixed place on the number line.\n",
    "\n",
    "So the parameter is either always in the interval 17.94 to 20.06, or never in it. \n",
    "\n",
    "That is why under the long run frequency theory of probability it doesn't make sense to talk about the chance that the fixed interval 17.94 to 20.06 contains some fixed number, except to say that the chance is either 100% or 0%.\n",
    "\n",
    "The word *confidence* is used to distinguish the two situations. We say we have about 95% confidence in the observed interval 17.94 to 20.06, because the random process that generated it has the property $P(\\mu \\in \\text{ random interval }) ~ \\approx 0.95$."
   ]
  },
  {
   "cell_type": "markdown",
   "metadata": {},
   "source": [
    "### Comparison with the Bootstrap ###\n",
    "\n",
    "The interpretation of the confidence interval is the same as in Data 8, though we are now able to express it in the more succinct and precise language of probability theory.\n",
    "\n",
    "It's worth checking that the numerical values that we get with our method based on the Central Limit Theorem are close to those we got using the bootstrap in Data 8."
   ]
  },
  {
   "cell_type": "code",
   "execution_count": 3,
   "metadata": {
    "tags": [
     "remove_input"
    ]
   },
   "outputs": [],
   "source": [
    "# NO CODE \n",
    "births = Table.read_table('../../../data/baby.csv')"
   ]
  },
  {
   "cell_type": "markdown",
   "metadata": {},
   "source": [
    "As you saw in [Data 8](https://www.inferentialthinking.com/chapters/13/3/Confidence_Intervals.html), the table `births` contains data on a random sample of mothers and their newborn babies. "
   ]
  },
  {
   "cell_type": "code",
   "execution_count": 264,
   "metadata": {},
   "outputs": [
    {
     "data": {
      "text/html": [
       "<table border=\"1\" class=\"dataframe\">\n",
       "    <thead>\n",
       "        <tr>\n",
       "            <th>Birth Weight</th> <th>Gestational Days</th> <th>Maternal Age</th> <th>Maternal Height</th> <th>Maternal Pregnancy Weight</th> <th>Maternal Smoker</th>\n",
       "        </tr>\n",
       "    </thead>\n",
       "    <tbody>\n",
       "        <tr>\n",
       "            <td>120         </td> <td>284             </td> <td>27          </td> <td>62             </td> <td>100                      </td> <td>False          </td>\n",
       "        </tr>\n",
       "        <tr>\n",
       "            <td>113         </td> <td>282             </td> <td>33          </td> <td>64             </td> <td>135                      </td> <td>False          </td>\n",
       "        </tr>\n",
       "        <tr>\n",
       "            <td>128         </td> <td>279             </td> <td>28          </td> <td>64             </td> <td>115                      </td> <td>True           </td>\n",
       "        </tr>\n",
       "        <tr>\n",
       "            <td>108         </td> <td>282             </td> <td>23          </td> <td>67             </td> <td>125                      </td> <td>True           </td>\n",
       "        </tr>\n",
       "        <tr>\n",
       "            <td>136         </td> <td>286             </td> <td>25          </td> <td>62             </td> <td>93                       </td> <td>False          </td>\n",
       "        </tr>\n",
       "        <tr>\n",
       "            <td>138         </td> <td>244             </td> <td>33          </td> <td>62             </td> <td>178                      </td> <td>False          </td>\n",
       "        </tr>\n",
       "        <tr>\n",
       "            <td>132         </td> <td>245             </td> <td>23          </td> <td>65             </td> <td>140                      </td> <td>False          </td>\n",
       "        </tr>\n",
       "        <tr>\n",
       "            <td>120         </td> <td>289             </td> <td>25          </td> <td>62             </td> <td>125                      </td> <td>False          </td>\n",
       "        </tr>\n",
       "        <tr>\n",
       "            <td>143         </td> <td>299             </td> <td>30          </td> <td>66             </td> <td>136                      </td> <td>True           </td>\n",
       "        </tr>\n",
       "        <tr>\n",
       "            <td>140         </td> <td>351             </td> <td>27          </td> <td>68             </td> <td>120                      </td> <td>False          </td>\n",
       "        </tr>\n",
       "    </tbody>\n",
       "</table>\n",
       "<p>... (1164 rows omitted)</p>"
      ],
      "text/plain": [
       "Birth Weight | Gestational Days | Maternal Age | Maternal Height | Maternal Pregnancy Weight | Maternal Smoker\n",
       "120          | 284              | 27           | 62              | 100                       | False\n",
       "113          | 282              | 33           | 64              | 135                       | False\n",
       "128          | 279              | 28           | 64              | 115                       | True\n",
       "108          | 282              | 23           | 67              | 125                       | True\n",
       "136          | 286              | 25           | 62              | 93                        | False\n",
       "138          | 244              | 33           | 62              | 178                       | False\n",
       "132          | 245              | 23           | 65              | 140                       | False\n",
       "120          | 289              | 25           | 62              | 125                       | False\n",
       "143          | 299              | 30           | 66              | 136                       | True\n",
       "140          | 351              | 27           | 68              | 120                       | False\n",
       "... (1164 rows omitted)"
      ]
     },
     "execution_count": 264,
     "metadata": {},
     "output_type": "execute_result"
    }
   ],
   "source": [
    "births"
   ]
  },
  {
   "cell_type": "markdown",
   "metadata": {},
   "source": [
    "The sample size is 1174."
   ]
  },
  {
   "cell_type": "code",
   "execution_count": 255,
   "metadata": {},
   "outputs": [
    {
     "data": {
      "text/plain": [
       "1174"
      ]
     },
     "execution_count": 255,
     "metadata": {},
     "output_type": "execute_result"
    }
   ],
   "source": [
    "n = births.num_rows\n",
    "n"
   ]
  },
  {
   "cell_type": "markdown",
   "metadata": {},
   "source": [
    "We will focus on the sample of maternal ages which are measured in years."
   ]
  },
  {
   "cell_type": "code",
   "execution_count": 252,
   "metadata": {},
   "outputs": [
    {
     "data": {
      "image/png": "[encoded data removed]",
      "text/plain": [
       "<Figure size 432x288 with 1 Axes>"
      ]
     },
     "metadata": {},
     "output_type": "display_data"
    }
   ],
   "source": [
    "births.hist('Maternal Age')"
   ]
  },
  {
   "cell_type": "markdown",
   "metadata": {},
   "source": [
    "The sample mean is about 27.23 years and the sample SD is about 5.8 years."
   ]
  },
  {
   "cell_type": "code",
   "execution_count": 254,
   "metadata": {},
   "outputs": [
    {
     "data": {
      "text/plain": [
       "(27.228279386712096, 5.815360404190897)"
      ]
     },
     "execution_count": 254,
     "metadata": {},
     "output_type": "execute_result"
    }
   ],
   "source": [
    "sampled_ages = births.column('Maternal Age')\n",
    "sample_mean = np.mean(sampled_ages)\n",
    "sample_SD = np.std(sampled_ages)\n",
    "sample_mean, sample_SD"
   ]
  },
  {
   "cell_type": "markdown",
   "metadata": {},
   "source": [
    "The SD of the sample mean is approximately $\\frac{5.8}{\\sqrt{1174}} \\approx 0.17$."
   ]
  },
  {
   "cell_type": "code",
   "execution_count": 257,
   "metadata": {},
   "outputs": [
    {
     "data": {
      "text/plain": [
       "0.16972373742299796"
      ]
     },
     "execution_count": 257,
     "metadata": {},
     "output_type": "execute_result"
    }
   ],
   "source": [
    "approx_SD_of_sample_mean = sample_SD / (n ** 0.5)\n",
    "approx_SD_of_sample_mean"
   ]
  },
  {
   "cell_type": "markdown",
   "metadata": {},
   "source": [
    "An approximate 95% confidence interval for the mean maternal age in the population goes from 26.89 years to 27.57 years."
   ]
  },
  {
   "cell_type": "code",
   "execution_count": 265,
   "metadata": {},
   "outputs": [
    {
     "data": {
      "text/plain": [
       "(26.89, 27.57)"
      ]
     },
     "execution_count": 265,
     "metadata": {},
     "output_type": "execute_result"
    }
   ],
   "source": [
    "27.23 - 2*0.17, 27.23 + 2*0.17"
   ]
  },
  {
   "cell_type": "markdown",
   "metadata": {},
   "source": [
    "In Data 8 we obtained the confidence interval by using the bootstrap. We started by defining a function that returns one bootstrap mean."
   ]
  },
  {
   "cell_type": "code",
   "execution_count": 266,
   "metadata": {},
   "outputs": [],
   "source": [
    "def one_resampled_mean():\n",
    "    return np.average(births.sample().column('Maternal Age'))"
   ]
  },
  {
   "cell_type": "markdown",
   "metadata": {},
   "source": [
    "We then called this function repeatedly to create an array of 2,000 bootstrap means:"
   ]
  },
  {
   "cell_type": "code",
   "execution_count": 269,
   "metadata": {},
   "outputs": [
    {
     "data": {
      "image/png": "[encoded data removed]",
      "text/plain": [
       "<Figure size 432x288 with 1 Axes>"
      ]
     },
     "metadata": {},
     "output_type": "display_data"
    }
   ],
   "source": [
    "means = make_array()\n",
    "\n",
    "for i in np.arange(2000):\n",
    "    means = np.append(means, one_resampled_mean())\n",
    "    \n",
    "Table().with_column('Bootstrapped Sample Means', means).hist(0, bins=20)"
   ]
  },
  {
   "cell_type": "markdown",
   "metadata": {},
   "source": [
    "Finally, we found the \"middle 95%\" of the bootstrapped means. That was our empirical bootstrap 95% confidence interval for the population mean."
   ]
  },
  {
   "cell_type": "code",
   "execution_count": 270,
   "metadata": {},
   "outputs": [
    {
     "data": {
      "text/plain": [
       "(26.89182282793867, 27.572402044293014)"
      ]
     },
     "execution_count": 270,
     "metadata": {},
     "output_type": "execute_result"
    }
   ],
   "source": [
    "left = percentile(2.5, means)\n",
    "right = percentile(97.5, means)\n",
    "left, right"
   ]
  },
  {
   "cell_type": "markdown",
   "metadata": {},
   "source": [
    "This interval is pretty close to the interval $(26.89, 27.57)$ that we got using the Central Limit Theorem."
   ]
  },
  {
   "cell_type": "markdown",
   "metadata": {},
   "source": [
    "### What the SDs Measure ###\n",
    "Here is the histogram of the sampled ages again for reference. The arrow on the horizontal axis is at the sample average 27.23."
   ]
  },
  {
   "cell_type": "code",
   "execution_count": 263,
   "metadata": {
    "tags": [
     "remove_input"
    ]
   },
   "outputs": [
    {
     "data": {
      "image/png": "[encoded data removed]",
      "text/plain": [
       "<Figure size 432x288 with 1 Axes>"
      ]
     },
     "metadata": {},
     "output_type": "display_data"
    }
   ],
   "source": [
    "# NO CODE \n",
    "\n",
    "births.hist('Maternal Age')\n",
    "plt.scatter(27.23, -0.001, marker='^', s=60, color='darkblue')\n",
    "plt.xlabel('Maternal Age (SD $\\simeq$ 5.8 years)');"
   ]
  },
  {
   "cell_type": "markdown",
   "metadata": {},
   "source": [
    "The **SD of the sample** is about 5.8 years. That's the SD of the distribution displayed above. It measures roughly how far the values in the sample are from their mean which is at the arrow.\n",
    "\n",
    "Most likely, the sample resembles the population. So the SD of the population, $\\sigma$, is somewhere around 5.8 years.\n",
    "\n",
    "A single random draw from the population has the same distribution as the population. If the draws are $X_1, X_2,$ and so on, then for example $SD(X_1) = \\sigma$ and hence $SD(X_1)$ is also somewhere around 5.8 years.\n",
    "\n",
    "As we just saw, the **SD of the sample mean** is\n",
    "\n",
    "$$\n",
    "SD(\\bar{X}) ~ = ~ \\frac{\\sigma}{\\sqrt{n}} ~ \\approx ~ \\frac{5.8}{\\sqrt{1174}} ~ \\approx ~ 0.17 \\text{ years}\n",
    "$$\n",
    "\n",
    "That's tiny!\n",
    "\n",
    "The SD of the sample mean measures roughly how far the sample mean is from its expected value. Since $E(\\bar{X}) = \\mu$, the SD of the sample mean measures roughly how far the sample mean is from the population mean.\n",
    "\n",
    "The figure below shows the distribution of the sample again, along with its mean. The lighter blue curve that represents what the distribution of the population might look like, and the lighter blue arrow shows the mean of that imagined population.\n",
    "\n",
    "The SD of the sample mean measures the rough size of the distance between the two arrows. It's tiny because the mean of a large sample is most likely pretty close to the mean of the population."
   ]
  },
  {
   "cell_type": "code",
   "execution_count": 251,
   "metadata": {
    "tags": [
     "remove_input"
    ]
   },
   "outputs": [
    {
     "data": {
      "image/png": "[encoded data removed]",
      "text/plain": [
       "<Figure size 432x288 with 1 Axes>"
      ]
     },
     "metadata": {},
     "output_type": "display_data"
    }
   ],
   "source": [
    "# NO CODE\n",
    "\n",
    "births.hist(2)\n",
    "x = np.arange(15, 45.01, .01)\n",
    "y = stats.gamma.pdf(x-15, 4, loc=0, scale=3.25)\n",
    "plt.plot(x, y, color='blue')\n",
    "plt.scatter(27.23, -0.001, marker='^', s=60, color='darkblue')\n",
    "plt.scatter(27.75, -0.001, marker='^', s=60, color='blue');"
   ]
  },
  {
   "cell_type": "markdown",
   "metadata": {},
   "source": [
    "### What the Confidence Interval Measures ###\n",
    "\n",
    "The confidence interval is an interval of estimates of the parameter. In our examples, the confidence interval measures the population mean. It does nothing else.\n",
    "\n",
    "For example, we have about 95% confidence that the mean maternal age in the population is in the interval 26.89 years to 27.57 years.\n",
    "\n",
    "It is an unfortunate reality that once numbers have been computed, there are people who want to use them in ways that they shouldn't be used. One common error is to conclude that about 95% of the mothers in the population are between 26.89 and 27.57 years old. But that's just silly.\n",
    "\n",
    "Look at the histogram and imagine marking the interval 26.89 to 27.57 on the horizontal axis. It's just around where the arrows are, and it's tiny. There is no way that interval contains 95% of the sampled ages or 95% of the ages in the population. It's just where we think the average age in the population is located."
   ]
  }
 ],
 "metadata": {
  "celltoolbar": "Edit Metadata",
  "kernelspec": {
   "display_name": "Python 3",
   "language": "python",
   "name": "python3"
  },
  "language_info": {
   "codemirror_mode": {
    "name": "ipython",
    "version": 3
   },
   "file_extension": ".py",
   "mimetype": "text/x-python",
   "name": "python",
   "nbconvert_exporter": "python",
   "pygments_lexer": "ipython3",
   "version": "3.6.5"
  }
 },
 "nbformat": 4,
 "nbformat_minor": 2
}
