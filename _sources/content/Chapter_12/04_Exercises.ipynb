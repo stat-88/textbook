{
 "cells": [
  {
   "cell_type": "code",
   "execution_count": 12,
   "metadata": {
    "tags": [
     "remove_input"
    ]
   },
   "outputs": [],
   "source": [
    "# NO CODE\n",
    "\n",
    "from datascience import *\n",
    "%matplotlib inline\n",
    "import matplotlib.pyplot as plt\n",
    "plt.style.use('fivethirtyeight')\n",
    "import numpy as np\n",
    "from scipy import stats\n",
    "import statsmodels.api as sm\n",
    "import warnings\n",
    "warnings.filterwarnings(\"ignore\")"
   ]
  },
  {
   "cell_type": "code",
   "execution_count": 13,
   "metadata": {
    "tags": [
     "remove_input"
    ]
   },
   "outputs": [],
   "source": [
    "# NO CODE\n",
    "\n",
    "pulse = Table.read_table('../../data/pulse.csv').drop(0)\n",
    "m_smokers = pulse.where('Sex', 0).where('Smoke', 1)\n",
    "m_data = m_smokers.to_df()\n",
    "m_data\n",
    "m_y = m_data[['Active']]\n",
    "m_x = m_data[['Rest']]\n",
    "m_x_with_int = sm.add_constant(m_x) "
   ]
  },
  {
   "cell_type": "markdown",
   "metadata": {},
   "source": [
    "## Exercises ##"
   ]
  },
  {
   "cell_type": "markdown",
   "metadata": {},
   "source": [
    "**1.**\n",
    "Recall that the intercept of the regression line is given by \"the average of $Y$ minus the slope times the average of $x$. That is, $\\hat{\\beta}_0 = \\bar{Y} - \\hat{\\beta}_1\\bar{x}$. Is $\\hat{\\beta}_0$ an unbiased estimator of $\\beta_0$?"
   ]
  },
  {
   "cell_type": "markdown",
   "metadata": {},
   "source": [
    "**2.**\n",
    "The *fitted* value of the response for the $i$th indvidual is the height of the regression line at $x_i$:\n",
    "\n",
    "$$\n",
    "\\hat{Y}_i ~ = ~ \\hat{\\beta}_0 + \\hat{\\beta}_1x_i\n",
    "$$\n",
    "\n",
    "Show that $\\hat{Y}_i$ is an unbiased estimator of $\\beta_0 + \\beta_1x_i$, the height of the true line at $x_i$."
   ]
  },
  {
   "cell_type": "markdown",
   "metadata": {},
   "source": [
    "**3.** \n",
    "Refer to the regression of active pulse rate on resting pulse rate in [Section 12.2](ch12.2). Here are the estimated values again, along with some additional data."
   ]
  },
  {
   "cell_type": "code",
   "execution_count": 4,
   "metadata": {},
   "outputs": [
    {
     "data": {
      "text/plain": [
       "(1.142879681904831,\n",
       " 13.182572776013345,\n",
       " 0.6041870881060092,\n",
       " 1.7861044071652305e-24,\n",
       " 0.09938884436389145)"
      ]
     },
     "execution_count": 4,
     "metadata": {},
     "output_type": "execute_result"
    }
   ],
   "source": [
    "active = pulse.column(0)\n",
    "resting = pulse.column(1)\n",
    "\n",
    "slope, intercept, r, p, se_slope = stats.linregress(x=resting, y=active)\n",
    "slope, intercept, r, p, se_slope"
   ]
  },
  {
   "cell_type": "code",
   "execution_count": 7,
   "metadata": {},
   "outputs": [
    {
     "data": {
      "text/plain": [
       "(91.29741379310344, 18.779629284683832)"
      ]
     },
     "execution_count": 7,
     "metadata": {},
     "output_type": "execute_result"
    }
   ],
   "source": [
    "mean_active, sd_active = np.mean(active), np.std(active)\n",
    "mean_active, sd_active"
   ]
  },
  {
   "cell_type": "code",
   "execution_count": 8,
   "metadata": {},
   "outputs": [
    {
     "data": {
      "text/plain": [
       "(68.34913793103448, 9.927912546587986)"
      ]
     },
     "execution_count": 8,
     "metadata": {},
     "output_type": "execute_result"
    }
   ],
   "source": [
    "mean_resting, sd_resting = np.mean(resting), np.std(resting)\n",
    "mean_resting, sd_resting"
   ]
  },
  {
   "cell_type": "markdown",
   "metadata": {},
   "source": [
    "**a)** Use the Data 8 formulas for the slope and intercept of the regression line (proved in the previous chapter) and confirm that you get the same values as reported by `stats.linregress`."
   ]
  },
  {
   "cell_type": "markdown",
   "metadata": {},
   "source": [
    "**b)** Find the regression estimate of the active pulse rate of a student whose resting pulse rate is 70.\n",
    "\n",
    "**c)** Find the SD of the residuals. This is roughly the error in the estimate in Part **b**."
   ]
  },
  {
   "cell_type": "markdown",
   "metadata": {},
   "source": [
    "**4.**\n",
    "Restrict the population of students in the previous exercise just to the male smokers."
   ]
  },
  {
   "cell_type": "code",
   "execution_count": 10,
   "metadata": {},
   "outputs": [
    {
     "data": {
      "text/plain": [
       "17"
      ]
     },
     "execution_count": 10,
     "metadata": {},
     "output_type": "execute_result"
    }
   ],
   "source": [
    "m_smokers = pulse.where('Sex', 0).where('Smoke', 1)\n",
    "m_smokers.num_rows"
   ]
  },
  {
   "cell_type": "code",
   "execution_count": 11,
   "metadata": {},
   "outputs": [
    {
     "data": {
      "image/png": "[encoded data removed]",
      "text/plain": [
       "<Figure size 360x360 with 1 Axes>"
      ]
     },
     "metadata": {},
     "output_type": "display_data"
    }
   ],
   "source": [
    "m_smokers.scatter(1, 0)"
   ]
  },
  {
   "cell_type": "markdown",
   "metadata": {},
   "source": [
    "Here is a summary of the regression of the active pulse rate on the resting pulse rate for these data. Since the population consists just of male smokers, the parameters in the model might have different values from those in the previous exercise."
   ]
  },
  {
   "cell_type": "code",
   "execution_count": 14,
   "metadata": {
    "tags": [
     "remove_input"
    ]
   },
   "outputs": [
    {
     "data": {
      "text/html": [
       "<table class=\"simpletable\">\n",
       "<caption>OLS Regression Results</caption>\n",
       "<tr>\n",
       "  <th>Dep. Variable:</th>         <td>Active</td>      <th>  R-squared:         </th> <td>   0.645</td>\n",
       "</tr>\n",
       "<tr>\n",
       "  <th>Model:</th>                   <td>OLS</td>       <th>  Adj. R-squared:    </th> <td>   0.622</td>\n",
       "</tr>\n",
       "<tr>\n",
       "  <th>Method:</th>             <td>Least Squares</td>  <th>  F-statistic:       </th> <td>   27.29</td>\n",
       "</tr>\n",
       "<tr>\n",
       "  <th>Date:</th>             <td>Sat, 07 Dec 2019</td> <th>  Prob (F-statistic):</th> <td>0.000103</td>\n",
       "</tr>\n",
       "<tr>\n",
       "  <th>Time:</th>                 <td>12:25:30</td>     <th>  Log-Likelihood:    </th> <td> -61.906</td>\n",
       "</tr>\n",
       "<tr>\n",
       "  <th>No. Observations:</th>      <td>    17</td>      <th>  AIC:               </th> <td>   127.8</td>\n",
       "</tr>\n",
       "<tr>\n",
       "  <th>Df Residuals:</th>          <td>    15</td>      <th>  BIC:               </th> <td>   129.5</td>\n",
       "</tr>\n",
       "<tr>\n",
       "  <th>Df Model:</th>              <td>     1</td>      <th>                     </th>     <td> </td>   \n",
       "</tr>\n",
       "<tr>\n",
       "  <th>Covariance Type:</th>      <td>nonrobust</td>    <th>                     </th>     <td> </td>   \n",
       "</tr>\n",
       "</table>\n",
       "<table class=\"simpletable\">\n",
       "<tr>\n",
       "    <td></td>       <th>coef</th>     <th>std err</th>      <th>t</th>      <th>P>|t|</th>  <th>[0.025</th>    <th>0.975]</th>  \n",
       "</tr>\n",
       "<tr>\n",
       "  <th>const</th> <td>    9.9360</td> <td>   16.345</td> <td>    0.608</td> <td> 0.552</td> <td>  -24.903</td> <td>   44.775</td>\n",
       "</tr>\n",
       "<tr>\n",
       "  <th>Rest</th>  <td>    1.1591</td> <td>    0.222</td> <td>    5.224</td> <td> 0.000</td> <td>    0.686</td> <td>    1.632</td>\n",
       "</tr>\n",
       "</table>\n",
       "<table class=\"simpletable\">\n",
       "<tr>\n",
       "  <th>Omnibus:</th>       <td> 2.279</td> <th>  Durbin-Watson:     </th> <td>   1.114</td>\n",
       "</tr>\n",
       "<tr>\n",
       "  <th>Prob(Omnibus):</th> <td> 0.320</td> <th>  Jarque-Bera (JB):  </th> <td>   1.423</td>\n",
       "</tr>\n",
       "<tr>\n",
       "  <th>Skew:</th>          <td> 0.456</td> <th>  Prob(JB):          </th> <td>   0.491</td>\n",
       "</tr>\n",
       "<tr>\n",
       "  <th>Kurtosis:</th>      <td> 1.915</td> <th>  Cond. No.          </th> <td>    505.</td>\n",
       "</tr>\n",
       "</table><br/><br/>Warnings:<br/>[1] Standard Errors assume that the covariance matrix of the errors is correctly specified."
      ],
      "text/plain": [
       "<class 'statsmodels.iolib.summary.Summary'>\n",
       "\"\"\"\n",
       "                            OLS Regression Results                            \n",
       "==============================================================================\n",
       "Dep. Variable:                 Active   R-squared:                       0.645\n",
       "Model:                            OLS   Adj. R-squared:                  0.622\n",
       "Method:                 Least Squares   F-statistic:                     27.29\n",
       "Date:                Sat, 07 Dec 2019   Prob (F-statistic):           0.000103\n",
       "Time:                        12:25:30   Log-Likelihood:                -61.906\n",
       "No. Observations:                  17   AIC:                             127.8\n",
       "Df Residuals:                      15   BIC:                             129.5\n",
       "Df Model:                           1                                         \n",
       "Covariance Type:            nonrobust                                         \n",
       "==============================================================================\n",
       "                 coef    std err          t      P>|t|      [0.025      0.975]\n",
       "------------------------------------------------------------------------------\n",
       "const          9.9360     16.345      0.608      0.552     -24.903      44.775\n",
       "Rest           1.1591      0.222      5.224      0.000       0.686       1.632\n",
       "==============================================================================\n",
       "Omnibus:                        2.279   Durbin-Watson:                   1.114\n",
       "Prob(Omnibus):                  0.320   Jarque-Bera (JB):                1.423\n",
       "Skew:                           0.456   Prob(JB):                        0.491\n",
       "Kurtosis:                       1.915   Cond. No.                         505.\n",
       "==============================================================================\n",
       "\n",
       "Warnings:\n",
       "[1] Standard Errors assume that the covariance matrix of the errors is correctly specified.\n",
       "\"\"\""
      ]
     },
     "execution_count": 14,
     "metadata": {},
     "output_type": "execute_result"
    }
   ],
   "source": [
    "# NO CODE\n",
    "\n",
    "reg4 = sm.OLS(m_y, m_x_with_int).fit()\n",
    "reg4.summary()"
   ]
  },
  {
   "cell_type": "markdown",
   "metadata": {},
   "source": [
    "**a)** Find the correlation between the active and resting pulse rates for these data and compare it with the corresponding value for all students.\n",
    "\n",
    "**b)** Show the calculation that leads to the displayed confidence interval for the true slope of `Rest`.\n",
    "\n",
    "**c)** Use the displayed confidence interval for the true intercept to provide the conclusion of a test of hypotheses $H_0$: $\\beta_0 = 0$ versus $H_A$: $\\beta_0 \\ne 0$ at the 5% level. Explain your reasoning.\n",
    "\n",
    "**d)** Show the calculation that leads to the displayed value of `P>|t|` for the intercept. Is the value consistent with your answer to Part **c**?\n",
    "\n",
    "**e)** Use the displayed results for the slope of `Rest` to provide the conclusion of a test of hypotheses $H_0$: $\\beta_1 = 0$ versus $H_A$: $\\beta_1 \\ne 0$ at the 1% level. Explain your reasoning."
   ]
  }
 ],
 "metadata": {
  "celltoolbar": "Edit Metadata",
  "kernelspec": {
   "display_name": "Python 3",
   "language": "python",
   "name": "python3"
  },
  "language_info": {
   "codemirror_mode": {
    "name": "ipython",
    "version": 3
   },
   "file_extension": ".py",
   "mimetype": "text/x-python",
   "name": "python",
   "nbconvert_exporter": "python",
   "pygments_lexer": "ipython3",
   "version": "3.7.11"
  }
 },
 "nbformat": 4,
 "nbformat_minor": 4
}
